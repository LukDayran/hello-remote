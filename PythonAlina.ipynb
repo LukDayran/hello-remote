{
  "nbformat": 4,
  "nbformat_minor": 0,
  "metadata": {
    "colab": {
      "provenance": [],
      "authorship_tag": "ABX9TyPSKPy4RrDUA3iooTV0/moY",
      "include_colab_link": true
    },
    "kernelspec": {
      "name": "python3",
      "display_name": "Python 3"
    },
    "language_info": {
      "name": "python"
    }
  },
  "cells": [
    {
      "cell_type": "markdown",
      "metadata": {
        "id": "view-in-github",
        "colab_type": "text"
      },
      "source": [
        "<a href=\"https://colab.research.google.com/github/LukDayran/hello-remote/blob/master/PythonAlina.ipynb\" target=\"_parent\"><img src=\"https://colab.research.google.com/assets/colab-badge.svg\" alt=\"Open In Colab\"/></a>"
      ]
    },
    {
      "cell_type": "markdown",
      "source": [
        "# Викторина \n",
        "## Как программа работает?\n",
        "Программа считывает вопросы, возможные ответы и баллы за них из файла, преобразуя это все в словарь (внутри которого еще один словарь)\n",
        "\n",
        "Дальше, программа задает пользователю вопросы, при получении ответа он его сохраняет и проверяет на правильность. Если ответ неправильный, то задает еще N количетво раз, снижая возможные баллы за ответ. Колличество попыток можно легко изменить. В ситуации отсутствия правильного ответа, пользователю засчитывается 0 баллов и выдается None в качестве как бы ответа.\n",
        "\n",
        "Затем, мы записываем уже в новый файл (который сам создастся, если отсутсвует) все результаты: вопросы, ответы, баллы за них, индекс успешности и как бы оценка, хорошо или плохо.\n",
        "\n",
        "##Особенности структуры кода\n",
        "Изначальный словарь и записывание ответов в файл происходит с помощью вызоыва функции. Основное тело программы занимает именно цикл задачи вопросов и записи ответов и баллов.\n",
        "\n",
        "##Что ожидать пользователю\n",
        "Вначале программа рассказывает, что его ждет. Озвучивает каждый вопрос и возможные ответы и в случае неверного ответа просит еще раз попробовать. Ответы можно вводить как строчными, так и прописными. \n"
      ],
      "metadata": {
        "id": "ahHEps8w1Vsu"
      }
    },
    {
      "cell_type": "code",
      "source": [
        "import os\n",
        "\n",
        "\n",
        "# В данной функции мы считывает из файлы вопросы, ответы и баллы и создаем из них словарь словарей\n",
        "def fill_quiz_dict(quiz_file):\n",
        "    quiz_dict = {}\n",
        "    with open(quiz_file, \"r\") as f:\n",
        "        for line in f:\n",
        "            parts = line.strip().split(\",\") #делим каждую страку на части по запятой\n",
        "            question = parts[0] #Вопрос всегда первый\n",
        "            answers_dict = {}\n",
        "            for i in range(1, len(parts), 2): #тут мы создаем словарь с вопросами и их баллами\n",
        "                answer = parts[i].lower() \n",
        "                points = int(parts[i + 1])\n",
        "                answers_dict[answer] = points\n",
        "            quiz_dict[question] = answers_dict #...и тут добавляет его в основной большой словарь\n",
        "    return quiz_dict\n",
        "#Тут мы записываем все имеющиеся у нас данные в отдельный файл, при его отсутсвии создаем его (для этого нам import os и нужен)\n",
        "#Вопрос, финальный ответ, баллы, все ответы, оценку работе\n",
        "def print_results(user_dict):\n",
        "    with open(\"quiz_results.txt\", \"w\") as f:\n",
        "        f.write(\"Ваши ответы:\\n\")\n",
        "        total_points = 0\n",
        "        for question, data_dict in user_dict.items():\n",
        "            f.write(question + \"\\n\")\n",
        "            f.write(\"Ваш ответ: \" + data_dict[\"answer\"] + \"\\n\")\n",
        "            f.write(\"Баллы: \" + str(data_dict[\"points\"]) + \"\\n\")\n",
        "            f.write(\"Все ответы: \" + \", \".join(data_dict[\"user_answers\"]) + \"\\n\")\n",
        "            f.write(\"\\n\")\n",
        "            total_points += data_dict[\"points\"]\n",
        "        success_rate = round(total_points / len(user_dict), 1) #складывая все баллы и зная количество вопросов получает индекс усспешности ответов\n",
        "        f.write(\"Ваш индекс успешных ответов - \" + str(success_rate) + \"\\n\")\n",
        "        if success_rate == 1:\n",
        "            f.write(\"Идеально!\\n\")\n",
        "        elif success_rate >= 0.5 and success_rate < 1:\n",
        "            f.write(\"Хорошо\\n\")\n",
        "        else:\n",
        "            f.write(\"Плохо\\n\")\n",
        "#указываем название изначального файла, используем ранеее описанную функцию и создаем новый словарь уже с ответами пользователя\n",
        "quiz_file = \"quiz_data.txt\" #название файда со всеми изначальными данными в формате \"вопрос,ответ,балл\"\n",
        "quiz_dict = fill_quiz_dict(quiz_file)\n",
        "user_dict = {}\n",
        "\n",
        "\n",
        "print('Вас ожидает серия вопросов. На каждый вопрос у вас есть ', 2,' попыток. С каждым неправильным ответов ваш балл уменьшается, что вляет на финальный результат. Ввод ответа регистронезависимый')\n",
        "for question, answers_dict in quiz_dict.items():\n",
        "    print(question)\n",
        "    for answer, points in answers_dict.items(): #печатаем вопросы\n",
        "        print(answer)\n",
        "    num_chances = 2\n",
        "    decrease_index = round(1/num_chances, 1) #так мы можем уменьшать баллы за неправильные ответы\n",
        "    #резонно уменьшать основываясь на колличестве попыток.      \n",
        "    points_decrease = 0 \n",
        "    user_answers = []\n",
        "    while num_chances > 0:\n",
        "        user_answer = input(\"Введите свой ответ: \").lower() \n",
        "        user_answers.append(user_answer)\n",
        "        #добавляет ответ пользователя в список всех ответов; если ответ правильный, начисляем балл и запускаем новый этап цикла.\n",
        "        if user_answer in answers_dict and answers_dict[user_answer] == 1:\n",
        "            if question not in user_dict:\n",
        "                user_dict[question] = {}\n",
        "            user_dict[question][\"answer\"] = user_answer\n",
        "            user_dict[question][\"points\"] = answers_dict[user_answer] - points_decrease\n",
        "            break\n",
        "        #Если же ответ неверный, то если есть попытки, даем еще шанс, уменьшая баллы. Если кончились, даем 0 баллов и в качестве ответа записывает None    \n",
        "        else:\n",
        "            num_chances -= 1\n",
        "            points_decrease += decrease_index\n",
        "            if num_chances > 0:\n",
        "                print(\"Ответ неверный. У вас осталось \", num_chances, \"попыток.\")\n",
        "            else:\n",
        "                print(\"Ответ неверный.\")\n",
        "                if question not in user_dict:\n",
        "                    user_dict[question] = {}\n",
        "                user_dict[question][\"answer\"] = \"None\"\n",
        "                user_dict[question][\"points\"] = 0\n",
        "    user_dict[question][\"user_answers\"] = user_answers #добавляем получееные ответы в словарь\n",
        "#записываем в файл результаты, вызывая функцию и указываем путь, где будет храниться этот файл\n",
        "print_results(user_dict)\n",
        "print(\"Результаты записаны в следующий файл: \", os.path.abspath(\"quiz_results.txt\"))\n",
        "print('Спасибо за ваше участие!')\n"
      ],
      "metadata": {
        "id": "rhqgS_FgtNMs"
      },
      "execution_count": null,
      "outputs": []
    }
  ]
}