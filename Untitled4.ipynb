{
  "nbformat": 4,
  "nbformat_minor": 0,
  "metadata": {
    "colab": {
      "name": "Untitled4.ipynb",
      "provenance": [],
      "authorship_tag": "ABX9TyPpo+KSxkUzhAOlQGVIu6Tm",
      "include_colab_link": true
    },
    "kernelspec": {
      "name": "python3",
      "display_name": "Python 3"
    },
    "language_info": {
      "name": "python"
    },
    "widgets": {
      "application/vnd.jupyter.widget-state+json": {
        "47191f6e58a747d19b3eb2f11719b1e6": {
          "model_module": "@jupyter-widgets/controls",
          "model_name": "HBoxModel",
          "state": {
            "_view_name": "HBoxView",
            "_dom_classes": [],
            "_model_name": "HBoxModel",
            "_view_module": "@jupyter-widgets/controls",
            "_model_module_version": "1.5.0",
            "_view_count": null,
            "_view_module_version": "1.5.0",
            "box_style": "",
            "layout": "IPY_MODEL_55771d20ef76403bb2b4111106b645e0",
            "_model_module": "@jupyter-widgets/controls",
            "children": [
              "IPY_MODEL_2b9fa82979d649d7aae5f2b1b66084ee",
              "IPY_MODEL_8fb2e7e5433a4948ae962ff4d7a8d324"
            ]
          }
        },
        "55771d20ef76403bb2b4111106b645e0": {
          "model_module": "@jupyter-widgets/base",
          "model_name": "LayoutModel",
          "state": {
            "_view_name": "LayoutView",
            "grid_template_rows": null,
            "right": null,
            "justify_content": null,
            "_view_module": "@jupyter-widgets/base",
            "overflow": null,
            "_model_module_version": "1.2.0",
            "_view_count": null,
            "flex_flow": null,
            "width": null,
            "min_width": null,
            "border": null,
            "align_items": null,
            "bottom": null,
            "_model_module": "@jupyter-widgets/base",
            "top": null,
            "grid_column": null,
            "overflow_y": null,
            "overflow_x": null,
            "grid_auto_flow": null,
            "grid_area": null,
            "grid_template_columns": null,
            "flex": null,
            "_model_name": "LayoutModel",
            "justify_items": null,
            "grid_row": null,
            "max_height": null,
            "align_content": null,
            "visibility": null,
            "align_self": null,
            "height": null,
            "min_height": null,
            "padding": null,
            "grid_auto_rows": null,
            "grid_gap": null,
            "max_width": null,
            "order": null,
            "_view_module_version": "1.2.0",
            "grid_template_areas": null,
            "object_position": null,
            "object_fit": null,
            "grid_auto_columns": null,
            "margin": null,
            "display": null,
            "left": null
          }
        },
        "2b9fa82979d649d7aae5f2b1b66084ee": {
          "model_module": "@jupyter-widgets/controls",
          "model_name": "FloatProgressModel",
          "state": {
            "_view_name": "ProgressView",
            "style": "IPY_MODEL_0f867c64efb54805b77c466c5e602c59",
            "_dom_classes": [],
            "description": "Downloading: 100%",
            "_model_name": "FloatProgressModel",
            "bar_style": "success",
            "max": 1713123,
            "_view_module": "@jupyter-widgets/controls",
            "_model_module_version": "1.5.0",
            "value": 1713123,
            "_view_count": null,
            "_view_module_version": "1.5.0",
            "orientation": "horizontal",
            "min": 0,
            "description_tooltip": null,
            "_model_module": "@jupyter-widgets/controls",
            "layout": "IPY_MODEL_dc116ffdc627470797d951c7618b2225"
          }
        },
        "8fb2e7e5433a4948ae962ff4d7a8d324": {
          "model_module": "@jupyter-widgets/controls",
          "model_name": "HTMLModel",
          "state": {
            "_view_name": "HTMLView",
            "style": "IPY_MODEL_6a68ac34e95346f6afd21cb37c13e47e",
            "_dom_classes": [],
            "description": "",
            "_model_name": "HTMLModel",
            "placeholder": "​",
            "_view_module": "@jupyter-widgets/controls",
            "_model_module_version": "1.5.0",
            "value": " 1.71M/1.71M [00:02&lt;00:00, 712kB/s]",
            "_view_count": null,
            "_view_module_version": "1.5.0",
            "description_tooltip": null,
            "_model_module": "@jupyter-widgets/controls",
            "layout": "IPY_MODEL_8b3fcd73f9264ea483ed5af5308746c3"
          }
        },
        "0f867c64efb54805b77c466c5e602c59": {
          "model_module": "@jupyter-widgets/controls",
          "model_name": "ProgressStyleModel",
          "state": {
            "_view_name": "StyleView",
            "_model_name": "ProgressStyleModel",
            "description_width": "initial",
            "_view_module": "@jupyter-widgets/base",
            "_model_module_version": "1.5.0",
            "_view_count": null,
            "_view_module_version": "1.2.0",
            "bar_color": null,
            "_model_module": "@jupyter-widgets/controls"
          }
        },
        "dc116ffdc627470797d951c7618b2225": {
          "model_module": "@jupyter-widgets/base",
          "model_name": "LayoutModel",
          "state": {
            "_view_name": "LayoutView",
            "grid_template_rows": null,
            "right": null,
            "justify_content": null,
            "_view_module": "@jupyter-widgets/base",
            "overflow": null,
            "_model_module_version": "1.2.0",
            "_view_count": null,
            "flex_flow": null,
            "width": null,
            "min_width": null,
            "border": null,
            "align_items": null,
            "bottom": null,
            "_model_module": "@jupyter-widgets/base",
            "top": null,
            "grid_column": null,
            "overflow_y": null,
            "overflow_x": null,
            "grid_auto_flow": null,
            "grid_area": null,
            "grid_template_columns": null,
            "flex": null,
            "_model_name": "LayoutModel",
            "justify_items": null,
            "grid_row": null,
            "max_height": null,
            "align_content": null,
            "visibility": null,
            "align_self": null,
            "height": null,
            "min_height": null,
            "padding": null,
            "grid_auto_rows": null,
            "grid_gap": null,
            "max_width": null,
            "order": null,
            "_view_module_version": "1.2.0",
            "grid_template_areas": null,
            "object_position": null,
            "object_fit": null,
            "grid_auto_columns": null,
            "margin": null,
            "display": null,
            "left": null
          }
        },
        "6a68ac34e95346f6afd21cb37c13e47e": {
          "model_module": "@jupyter-widgets/controls",
          "model_name": "DescriptionStyleModel",
          "state": {
            "_view_name": "StyleView",
            "_model_name": "DescriptionStyleModel",
            "description_width": "",
            "_view_module": "@jupyter-widgets/base",
            "_model_module_version": "1.5.0",
            "_view_count": null,
            "_view_module_version": "1.2.0",
            "_model_module": "@jupyter-widgets/controls"
          }
        },
        "8b3fcd73f9264ea483ed5af5308746c3": {
          "model_module": "@jupyter-widgets/base",
          "model_name": "LayoutModel",
          "state": {
            "_view_name": "LayoutView",
            "grid_template_rows": null,
            "right": null,
            "justify_content": null,
            "_view_module": "@jupyter-widgets/base",
            "overflow": null,
            "_model_module_version": "1.2.0",
            "_view_count": null,
            "flex_flow": null,
            "width": null,
            "min_width": null,
            "border": null,
            "align_items": null,
            "bottom": null,
            "_model_module": "@jupyter-widgets/base",
            "top": null,
            "grid_column": null,
            "overflow_y": null,
            "overflow_x": null,
            "grid_auto_flow": null,
            "grid_area": null,
            "grid_template_columns": null,
            "flex": null,
            "_model_name": "LayoutModel",
            "justify_items": null,
            "grid_row": null,
            "max_height": null,
            "align_content": null,
            "visibility": null,
            "align_self": null,
            "height": null,
            "min_height": null,
            "padding": null,
            "grid_auto_rows": null,
            "grid_gap": null,
            "max_width": null,
            "order": null,
            "_view_module_version": "1.2.0",
            "grid_template_areas": null,
            "object_position": null,
            "object_fit": null,
            "grid_auto_columns": null,
            "margin": null,
            "display": null,
            "left": null
          }
        },
        "9ddbc0ebba3e487eb9dce91c8b12853b": {
          "model_module": "@jupyter-widgets/controls",
          "model_name": "HBoxModel",
          "state": {
            "_view_name": "HBoxView",
            "_dom_classes": [],
            "_model_name": "HBoxModel",
            "_view_module": "@jupyter-widgets/controls",
            "_model_module_version": "1.5.0",
            "_view_count": null,
            "_view_module_version": "1.5.0",
            "box_style": "",
            "layout": "IPY_MODEL_9cafb66ff0bb44768ce17d20b36ec4de",
            "_model_module": "@jupyter-widgets/controls",
            "children": [
              "IPY_MODEL_a19de3855f49475e8201ab0d3e121502",
              "IPY_MODEL_23f47d0b9848415bbb95f82676123d63"
            ]
          }
        },
        "9cafb66ff0bb44768ce17d20b36ec4de": {
          "model_module": "@jupyter-widgets/base",
          "model_name": "LayoutModel",
          "state": {
            "_view_name": "LayoutView",
            "grid_template_rows": null,
            "right": null,
            "justify_content": null,
            "_view_module": "@jupyter-widgets/base",
            "overflow": null,
            "_model_module_version": "1.2.0",
            "_view_count": null,
            "flex_flow": null,
            "width": null,
            "min_width": null,
            "border": null,
            "align_items": null,
            "bottom": null,
            "_model_module": "@jupyter-widgets/base",
            "top": null,
            "grid_column": null,
            "overflow_y": null,
            "overflow_x": null,
            "grid_auto_flow": null,
            "grid_area": null,
            "grid_template_columns": null,
            "flex": null,
            "_model_name": "LayoutModel",
            "justify_items": null,
            "grid_row": null,
            "max_height": null,
            "align_content": null,
            "visibility": null,
            "align_self": null,
            "height": null,
            "min_height": null,
            "padding": null,
            "grid_auto_rows": null,
            "grid_gap": null,
            "max_width": null,
            "order": null,
            "_view_module_version": "1.2.0",
            "grid_template_areas": null,
            "object_position": null,
            "object_fit": null,
            "grid_auto_columns": null,
            "margin": null,
            "display": null,
            "left": null
          }
        },
        "a19de3855f49475e8201ab0d3e121502": {
          "model_module": "@jupyter-widgets/controls",
          "model_name": "FloatProgressModel",
          "state": {
            "_view_name": "ProgressView",
            "style": "IPY_MODEL_e8f7f32b22284b13b9bccf9fd37066b6",
            "_dom_classes": [],
            "description": "Downloading: 100%",
            "_model_name": "FloatProgressModel",
            "bar_style": "success",
            "max": 1270925,
            "_view_module": "@jupyter-widgets/controls",
            "_model_module_version": "1.5.0",
            "value": 1270925,
            "_view_count": null,
            "_view_module_version": "1.5.0",
            "orientation": "horizontal",
            "min": 0,
            "description_tooltip": null,
            "_model_module": "@jupyter-widgets/controls",
            "layout": "IPY_MODEL_c723210af08d4cf48f58531e8bacacd7"
          }
        },
        "23f47d0b9848415bbb95f82676123d63": {
          "model_module": "@jupyter-widgets/controls",
          "model_name": "HTMLModel",
          "state": {
            "_view_name": "HTMLView",
            "style": "IPY_MODEL_3527c4e355974e6a98687b46752d6a5c",
            "_dom_classes": [],
            "description": "",
            "_model_name": "HTMLModel",
            "placeholder": "​",
            "_view_module": "@jupyter-widgets/controls",
            "_model_module_version": "1.5.0",
            "value": " 1.27M/1.27M [00:01&lt;00:00, 838kB/s]",
            "_view_count": null,
            "_view_module_version": "1.5.0",
            "description_tooltip": null,
            "_model_module": "@jupyter-widgets/controls",
            "layout": "IPY_MODEL_66053f8fedd74db1bcc742606a354ab4"
          }
        },
        "e8f7f32b22284b13b9bccf9fd37066b6": {
          "model_module": "@jupyter-widgets/controls",
          "model_name": "ProgressStyleModel",
          "state": {
            "_view_name": "StyleView",
            "_model_name": "ProgressStyleModel",
            "description_width": "initial",
            "_view_module": "@jupyter-widgets/base",
            "_model_module_version": "1.5.0",
            "_view_count": null,
            "_view_module_version": "1.2.0",
            "bar_color": null,
            "_model_module": "@jupyter-widgets/controls"
          }
        },
        "c723210af08d4cf48f58531e8bacacd7": {
          "model_module": "@jupyter-widgets/base",
          "model_name": "LayoutModel",
          "state": {
            "_view_name": "LayoutView",
            "grid_template_rows": null,
            "right": null,
            "justify_content": null,
            "_view_module": "@jupyter-widgets/base",
            "overflow": null,
            "_model_module_version": "1.2.0",
            "_view_count": null,
            "flex_flow": null,
            "width": null,
            "min_width": null,
            "border": null,
            "align_items": null,
            "bottom": null,
            "_model_module": "@jupyter-widgets/base",
            "top": null,
            "grid_column": null,
            "overflow_y": null,
            "overflow_x": null,
            "grid_auto_flow": null,
            "grid_area": null,
            "grid_template_columns": null,
            "flex": null,
            "_model_name": "LayoutModel",
            "justify_items": null,
            "grid_row": null,
            "max_height": null,
            "align_content": null,
            "visibility": null,
            "align_self": null,
            "height": null,
            "min_height": null,
            "padding": null,
            "grid_auto_rows": null,
            "grid_gap": null,
            "max_width": null,
            "order": null,
            "_view_module_version": "1.2.0",
            "grid_template_areas": null,
            "object_position": null,
            "object_fit": null,
            "grid_auto_columns": null,
            "margin": null,
            "display": null,
            "left": null
          }
        },
        "3527c4e355974e6a98687b46752d6a5c": {
          "model_module": "@jupyter-widgets/controls",
          "model_name": "DescriptionStyleModel",
          "state": {
            "_view_name": "StyleView",
            "_model_name": "DescriptionStyleModel",
            "description_width": "",
            "_view_module": "@jupyter-widgets/base",
            "_model_module_version": "1.5.0",
            "_view_count": null,
            "_view_module_version": "1.2.0",
            "_model_module": "@jupyter-widgets/controls"
          }
        },
        "66053f8fedd74db1bcc742606a354ab4": {
          "model_module": "@jupyter-widgets/base",
          "model_name": "LayoutModel",
          "state": {
            "_view_name": "LayoutView",
            "grid_template_rows": null,
            "right": null,
            "justify_content": null,
            "_view_module": "@jupyter-widgets/base",
            "overflow": null,
            "_model_module_version": "1.2.0",
            "_view_count": null,
            "flex_flow": null,
            "width": null,
            "min_width": null,
            "border": null,
            "align_items": null,
            "bottom": null,
            "_model_module": "@jupyter-widgets/base",
            "top": null,
            "grid_column": null,
            "overflow_y": null,
            "overflow_x": null,
            "grid_auto_flow": null,
            "grid_area": null,
            "grid_template_columns": null,
            "flex": null,
            "_model_name": "LayoutModel",
            "justify_items": null,
            "grid_row": null,
            "max_height": null,
            "align_content": null,
            "visibility": null,
            "align_self": null,
            "height": null,
            "min_height": null,
            "padding": null,
            "grid_auto_rows": null,
            "grid_gap": null,
            "max_width": null,
            "order": null,
            "_view_module_version": "1.2.0",
            "grid_template_areas": null,
            "object_position": null,
            "object_fit": null,
            "grid_auto_columns": null,
            "margin": null,
            "display": null,
            "left": null
          }
        },
        "e77f624aebc6403683ea96bf95703064": {
          "model_module": "@jupyter-widgets/controls",
          "model_name": "HBoxModel",
          "state": {
            "_view_name": "HBoxView",
            "_dom_classes": [],
            "_model_name": "HBoxModel",
            "_view_module": "@jupyter-widgets/controls",
            "_model_module_version": "1.5.0",
            "_view_count": null,
            "_view_module_version": "1.5.0",
            "box_style": "",
            "layout": "IPY_MODEL_b1fb037a460a40bba329ef15684dd104",
            "_model_module": "@jupyter-widgets/controls",
            "children": [
              "IPY_MODEL_db5a4803753c43ecab9a65c90f0e946c",
              "IPY_MODEL_9e73efd6877e444c8538d2d3dd835288"
            ]
          }
        },
        "b1fb037a460a40bba329ef15684dd104": {
          "model_module": "@jupyter-widgets/base",
          "model_name": "LayoutModel",
          "state": {
            "_view_name": "LayoutView",
            "grid_template_rows": null,
            "right": null,
            "justify_content": null,
            "_view_module": "@jupyter-widgets/base",
            "overflow": null,
            "_model_module_version": "1.2.0",
            "_view_count": null,
            "flex_flow": null,
            "width": null,
            "min_width": null,
            "border": null,
            "align_items": null,
            "bottom": null,
            "_model_module": "@jupyter-widgets/base",
            "top": null,
            "grid_column": null,
            "overflow_y": null,
            "overflow_x": null,
            "grid_auto_flow": null,
            "grid_area": null,
            "grid_template_columns": null,
            "flex": null,
            "_model_name": "LayoutModel",
            "justify_items": null,
            "grid_row": null,
            "max_height": null,
            "align_content": null,
            "visibility": null,
            "align_self": null,
            "height": null,
            "min_height": null,
            "padding": null,
            "grid_auto_rows": null,
            "grid_gap": null,
            "max_width": null,
            "order": null,
            "_view_module_version": "1.2.0",
            "grid_template_areas": null,
            "object_position": null,
            "object_fit": null,
            "grid_auto_columns": null,
            "margin": null,
            "display": null,
            "left": null
          }
        },
        "db5a4803753c43ecab9a65c90f0e946c": {
          "model_module": "@jupyter-widgets/controls",
          "model_name": "FloatProgressModel",
          "state": {
            "_view_name": "ProgressView",
            "style": "IPY_MODEL_53d4be460e66468195c76b891adefb27",
            "_dom_classes": [],
            "description": "Downloading: 100%",
            "_model_name": "FloatProgressModel",
            "bar_style": "success",
            "max": 609,
            "_view_module": "@jupyter-widgets/controls",
            "_model_module_version": "1.5.0",
            "value": 609,
            "_view_count": null,
            "_view_module_version": "1.5.0",
            "orientation": "horizontal",
            "min": 0,
            "description_tooltip": null,
            "_model_module": "@jupyter-widgets/controls",
            "layout": "IPY_MODEL_0e72982f72dc43018510515f78bcf4bc"
          }
        },
        "9e73efd6877e444c8538d2d3dd835288": {
          "model_module": "@jupyter-widgets/controls",
          "model_name": "HTMLModel",
          "state": {
            "_view_name": "HTMLView",
            "style": "IPY_MODEL_dfe4cf158e264e5c9c699f904a774f00",
            "_dom_classes": [],
            "description": "",
            "_model_name": "HTMLModel",
            "placeholder": "​",
            "_view_module": "@jupyter-widgets/controls",
            "_model_module_version": "1.5.0",
            "value": " 609/609 [01:21&lt;00:00, 7.46B/s]",
            "_view_count": null,
            "_view_module_version": "1.5.0",
            "description_tooltip": null,
            "_model_module": "@jupyter-widgets/controls",
            "layout": "IPY_MODEL_769de3d42562462da9b3dda91dde694a"
          }
        },
        "53d4be460e66468195c76b891adefb27": {
          "model_module": "@jupyter-widgets/controls",
          "model_name": "ProgressStyleModel",
          "state": {
            "_view_name": "StyleView",
            "_model_name": "ProgressStyleModel",
            "description_width": "initial",
            "_view_module": "@jupyter-widgets/base",
            "_model_module_version": "1.5.0",
            "_view_count": null,
            "_view_module_version": "1.2.0",
            "bar_color": null,
            "_model_module": "@jupyter-widgets/controls"
          }
        },
        "0e72982f72dc43018510515f78bcf4bc": {
          "model_module": "@jupyter-widgets/base",
          "model_name": "LayoutModel",
          "state": {
            "_view_name": "LayoutView",
            "grid_template_rows": null,
            "right": null,
            "justify_content": null,
            "_view_module": "@jupyter-widgets/base",
            "overflow": null,
            "_model_module_version": "1.2.0",
            "_view_count": null,
            "flex_flow": null,
            "width": null,
            "min_width": null,
            "border": null,
            "align_items": null,
            "bottom": null,
            "_model_module": "@jupyter-widgets/base",
            "top": null,
            "grid_column": null,
            "overflow_y": null,
            "overflow_x": null,
            "grid_auto_flow": null,
            "grid_area": null,
            "grid_template_columns": null,
            "flex": null,
            "_model_name": "LayoutModel",
            "justify_items": null,
            "grid_row": null,
            "max_height": null,
            "align_content": null,
            "visibility": null,
            "align_self": null,
            "height": null,
            "min_height": null,
            "padding": null,
            "grid_auto_rows": null,
            "grid_gap": null,
            "max_width": null,
            "order": null,
            "_view_module_version": "1.2.0",
            "grid_template_areas": null,
            "object_position": null,
            "object_fit": null,
            "grid_auto_columns": null,
            "margin": null,
            "display": null,
            "left": null
          }
        },
        "dfe4cf158e264e5c9c699f904a774f00": {
          "model_module": "@jupyter-widgets/controls",
          "model_name": "DescriptionStyleModel",
          "state": {
            "_view_name": "StyleView",
            "_model_name": "DescriptionStyleModel",
            "description_width": "",
            "_view_module": "@jupyter-widgets/base",
            "_model_module_version": "1.5.0",
            "_view_count": null,
            "_view_module_version": "1.2.0",
            "_model_module": "@jupyter-widgets/controls"
          }
        },
        "769de3d42562462da9b3dda91dde694a": {
          "model_module": "@jupyter-widgets/base",
          "model_name": "LayoutModel",
          "state": {
            "_view_name": "LayoutView",
            "grid_template_rows": null,
            "right": null,
            "justify_content": null,
            "_view_module": "@jupyter-widgets/base",
            "overflow": null,
            "_model_module_version": "1.2.0",
            "_view_count": null,
            "flex_flow": null,
            "width": null,
            "min_width": null,
            "border": null,
            "align_items": null,
            "bottom": null,
            "_model_module": "@jupyter-widgets/base",
            "top": null,
            "grid_column": null,
            "overflow_y": null,
            "overflow_x": null,
            "grid_auto_flow": null,
            "grid_area": null,
            "grid_template_columns": null,
            "flex": null,
            "_model_name": "LayoutModel",
            "justify_items": null,
            "grid_row": null,
            "max_height": null,
            "align_content": null,
            "visibility": null,
            "align_self": null,
            "height": null,
            "min_height": null,
            "padding": null,
            "grid_auto_rows": null,
            "grid_gap": null,
            "max_width": null,
            "order": null,
            "_view_module_version": "1.2.0",
            "grid_template_areas": null,
            "object_position": null,
            "object_fit": null,
            "grid_auto_columns": null,
            "margin": null,
            "display": null,
            "left": null
          }
        },
        "9e8af4f1c047488793b53661d8bc1bb3": {
          "model_module": "@jupyter-widgets/controls",
          "model_name": "HBoxModel",
          "state": {
            "_view_name": "HBoxView",
            "_dom_classes": [],
            "_model_name": "HBoxModel",
            "_view_module": "@jupyter-widgets/controls",
            "_model_module_version": "1.5.0",
            "_view_count": null,
            "_view_module_version": "1.5.0",
            "box_style": "",
            "layout": "IPY_MODEL_d81a86b22540442c9cad0b26142c8da0",
            "_model_module": "@jupyter-widgets/controls",
            "children": [
              "IPY_MODEL_b5ac89db36f348b692696eaf8c2ca9ec",
              "IPY_MODEL_60bbeffb654544bc81f04aa23fb3419d"
            ]
          }
        },
        "d81a86b22540442c9cad0b26142c8da0": {
          "model_module": "@jupyter-widgets/base",
          "model_name": "LayoutModel",
          "state": {
            "_view_name": "LayoutView",
            "grid_template_rows": null,
            "right": null,
            "justify_content": null,
            "_view_module": "@jupyter-widgets/base",
            "overflow": null,
            "_model_module_version": "1.2.0",
            "_view_count": null,
            "flex_flow": null,
            "width": null,
            "min_width": null,
            "border": null,
            "align_items": null,
            "bottom": null,
            "_model_module": "@jupyter-widgets/base",
            "top": null,
            "grid_column": null,
            "overflow_y": null,
            "overflow_x": null,
            "grid_auto_flow": null,
            "grid_area": null,
            "grid_template_columns": null,
            "flex": null,
            "_model_name": "LayoutModel",
            "justify_items": null,
            "grid_row": null,
            "max_height": null,
            "align_content": null,
            "visibility": null,
            "align_self": null,
            "height": null,
            "min_height": null,
            "padding": null,
            "grid_auto_rows": null,
            "grid_gap": null,
            "max_width": null,
            "order": null,
            "_view_module_version": "1.2.0",
            "grid_template_areas": null,
            "object_position": null,
            "object_fit": null,
            "grid_auto_columns": null,
            "margin": null,
            "display": null,
            "left": null
          }
        },
        "b5ac89db36f348b692696eaf8c2ca9ec": {
          "model_module": "@jupyter-widgets/controls",
          "model_name": "FloatProgressModel",
          "state": {
            "_view_name": "ProgressView",
            "style": "IPY_MODEL_87bd501e73aa481098d178870684f161",
            "_dom_classes": [],
            "description": "Downloading: 100%",
            "_model_name": "FloatProgressModel",
            "bar_style": "success",
            "max": 3141928084,
            "_view_module": "@jupyter-widgets/controls",
            "_model_module_version": "1.5.0",
            "value": 3141928084,
            "_view_count": null,
            "_view_module_version": "1.5.0",
            "orientation": "horizontal",
            "min": 0,
            "description_tooltip": null,
            "_model_module": "@jupyter-widgets/controls",
            "layout": "IPY_MODEL_bef37ce1ad124e30973b80e62db078ff"
          }
        },
        "60bbeffb654544bc81f04aa23fb3419d": {
          "model_module": "@jupyter-widgets/controls",
          "model_name": "HTMLModel",
          "state": {
            "_view_name": "HTMLView",
            "style": "IPY_MODEL_163aa94682284c0eb0a7815c376e99a8",
            "_dom_classes": [],
            "description": "",
            "_model_name": "HTMLModel",
            "placeholder": "​",
            "_view_module": "@jupyter-widgets/controls",
            "_model_module_version": "1.5.0",
            "value": " 3.14G/3.14G [01:20&lt;00:00, 39.0MB/s]",
            "_view_count": null,
            "_view_module_version": "1.5.0",
            "description_tooltip": null,
            "_model_module": "@jupyter-widgets/controls",
            "layout": "IPY_MODEL_f71230a482d540c0a4200d28c6a4cb63"
          }
        },
        "87bd501e73aa481098d178870684f161": {
          "model_module": "@jupyter-widgets/controls",
          "model_name": "ProgressStyleModel",
          "state": {
            "_view_name": "StyleView",
            "_model_name": "ProgressStyleModel",
            "description_width": "initial",
            "_view_module": "@jupyter-widgets/base",
            "_model_module_version": "1.5.0",
            "_view_count": null,
            "_view_module_version": "1.2.0",
            "bar_color": null,
            "_model_module": "@jupyter-widgets/controls"
          }
        },
        "bef37ce1ad124e30973b80e62db078ff": {
          "model_module": "@jupyter-widgets/base",
          "model_name": "LayoutModel",
          "state": {
            "_view_name": "LayoutView",
            "grid_template_rows": null,
            "right": null,
            "justify_content": null,
            "_view_module": "@jupyter-widgets/base",
            "overflow": null,
            "_model_module_version": "1.2.0",
            "_view_count": null,
            "flex_flow": null,
            "width": null,
            "min_width": null,
            "border": null,
            "align_items": null,
            "bottom": null,
            "_model_module": "@jupyter-widgets/base",
            "top": null,
            "grid_column": null,
            "overflow_y": null,
            "overflow_x": null,
            "grid_auto_flow": null,
            "grid_area": null,
            "grid_template_columns": null,
            "flex": null,
            "_model_name": "LayoutModel",
            "justify_items": null,
            "grid_row": null,
            "max_height": null,
            "align_content": null,
            "visibility": null,
            "align_self": null,
            "height": null,
            "min_height": null,
            "padding": null,
            "grid_auto_rows": null,
            "grid_gap": null,
            "max_width": null,
            "order": null,
            "_view_module_version": "1.2.0",
            "grid_template_areas": null,
            "object_position": null,
            "object_fit": null,
            "grid_auto_columns": null,
            "margin": null,
            "display": null,
            "left": null
          }
        },
        "163aa94682284c0eb0a7815c376e99a8": {
          "model_module": "@jupyter-widgets/controls",
          "model_name": "DescriptionStyleModel",
          "state": {
            "_view_name": "StyleView",
            "_model_name": "DescriptionStyleModel",
            "description_width": "",
            "_view_module": "@jupyter-widgets/base",
            "_model_module_version": "1.5.0",
            "_view_count": null,
            "_view_module_version": "1.2.0",
            "_model_module": "@jupyter-widgets/controls"
          }
        },
        "f71230a482d540c0a4200d28c6a4cb63": {
          "model_module": "@jupyter-widgets/base",
          "model_name": "LayoutModel",
          "state": {
            "_view_name": "LayoutView",
            "grid_template_rows": null,
            "right": null,
            "justify_content": null,
            "_view_module": "@jupyter-widgets/base",
            "overflow": null,
            "_model_module_version": "1.2.0",
            "_view_count": null,
            "flex_flow": null,
            "width": null,
            "min_width": null,
            "border": null,
            "align_items": null,
            "bottom": null,
            "_model_module": "@jupyter-widgets/base",
            "top": null,
            "grid_column": null,
            "overflow_y": null,
            "overflow_x": null,
            "grid_auto_flow": null,
            "grid_area": null,
            "grid_template_columns": null,
            "flex": null,
            "_model_name": "LayoutModel",
            "justify_items": null,
            "grid_row": null,
            "max_height": null,
            "align_content": null,
            "visibility": null,
            "align_self": null,
            "height": null,
            "min_height": null,
            "padding": null,
            "grid_auto_rows": null,
            "grid_gap": null,
            "max_width": null,
            "order": null,
            "_view_module_version": "1.2.0",
            "grid_template_areas": null,
            "object_position": null,
            "object_fit": null,
            "grid_auto_columns": null,
            "margin": null,
            "display": null,
            "left": null
          }
        }
      }
    }
  },
  "cells": [
    {
      "cell_type": "markdown",
      "metadata": {
        "id": "view-in-github",
        "colab_type": "text"
      },
      "source": [
        "<a href=\"https://colab.research.google.com/github/LukDayran/hello-remote/blob/master/Untitled4.ipynb\" target=\"_parent\"><img src=\"https://colab.research.google.com/assets/colab-badge.svg\" alt=\"Open In Colab\"/></a>"
      ]
    },
    {
      "cell_type": "code",
      "metadata": {
        "id": "aVK51rk0JJyC"
      },
      "source": [
        "!pip3 install transformers==3.5.0"
      ],
      "execution_count": null,
      "outputs": []
    },
    {
      "cell_type": "code",
      "metadata": {
        "id": "NdMk28GiJXMv"
      },
      "source": [
        "!git clone  https://github.com/sberbank-ai/ru-gpts"
      ],
      "execution_count": null,
      "outputs": []
    },
    {
      "cell_type": "code",
      "metadata": {
        "id": "SENfstTYJn4Q"
      },
      "source": [
        "pip install torch==1.4.0"
      ],
      "execution_count": null,
      "outputs": []
    },
    {
      "cell_type": "code",
      "metadata": {
        "id": "9KL_WeKRJa0f"
      },
      "source": [
        "import numpy as np\n",
        "import torch"
      ],
      "execution_count": 1,
      "outputs": []
    },
    {
      "cell_type": "code",
      "metadata": {
        "colab": {
          "base_uri": "https://localhost:8080/"
        },
        "id": "WsKWv4YZJeuZ",
        "outputId": "0371b61d-2323-4006-f7bb-a743d6025a22"
      },
      "source": [
        "np.random.seed(42)\n",
        "torch.manual_seed(42)"
      ],
      "execution_count": 2,
      "outputs": [
        {
          "output_type": "execute_result",
          "data": {
            "text/plain": [
              "<torch._C.Generator at 0x7f4ff777aa90>"
            ]
          },
          "metadata": {
            "tags": []
          },
          "execution_count": 2
        }
      ]
    },
    {
      "cell_type": "code",
      "metadata": {
        "id": "xgO8QD24JhgS"
      },
      "source": [
        "\n",
        "from transformers import GPT2LMHeadModel, GPT2Tokenizer"
      ],
      "execution_count": 5,
      "outputs": []
    },
    {
      "cell_type": "code",
      "metadata": {
        "colab": {
          "base_uri": "https://localhost:8080/",
          "height": 520,
          "referenced_widgets": [
            "47191f6e58a747d19b3eb2f11719b1e6",
            "55771d20ef76403bb2b4111106b645e0",
            "2b9fa82979d649d7aae5f2b1b66084ee",
            "8fb2e7e5433a4948ae962ff4d7a8d324",
            "0f867c64efb54805b77c466c5e602c59",
            "dc116ffdc627470797d951c7618b2225",
            "6a68ac34e95346f6afd21cb37c13e47e",
            "8b3fcd73f9264ea483ed5af5308746c3",
            "9ddbc0ebba3e487eb9dce91c8b12853b",
            "9cafb66ff0bb44768ce17d20b36ec4de",
            "a19de3855f49475e8201ab0d3e121502",
            "23f47d0b9848415bbb95f82676123d63",
            "e8f7f32b22284b13b9bccf9fd37066b6",
            "c723210af08d4cf48f58531e8bacacd7",
            "3527c4e355974e6a98687b46752d6a5c",
            "66053f8fedd74db1bcc742606a354ab4",
            "e77f624aebc6403683ea96bf95703064",
            "b1fb037a460a40bba329ef15684dd104",
            "db5a4803753c43ecab9a65c90f0e946c",
            "9e73efd6877e444c8538d2d3dd835288",
            "53d4be460e66468195c76b891adefb27",
            "0e72982f72dc43018510515f78bcf4bc",
            "dfe4cf158e264e5c9c699f904a774f00",
            "769de3d42562462da9b3dda91dde694a",
            "9e8af4f1c047488793b53661d8bc1bb3",
            "d81a86b22540442c9cad0b26142c8da0",
            "b5ac89db36f348b692696eaf8c2ca9ec",
            "60bbeffb654544bc81f04aa23fb3419d",
            "87bd501e73aa481098d178870684f161",
            "bef37ce1ad124e30973b80e62db078ff",
            "163aa94682284c0eb0a7815c376e99a8",
            "f71230a482d540c0a4200d28c6a4cb63"
          ]
        },
        "id": "zIOOu_zYKZ-I",
        "outputId": "b04d67ac-f914-440c-b163-397a21bd5580"
      },
      "source": [
        "tok, model = load_tokenizer_and_model(\"sberbank-ai/rugpt3large_based_on_gpt2\")\n",
        "\n"
      ],
      "execution_count": 6,
      "outputs": [
        {
          "output_type": "display_data",
          "data": {
            "application/vnd.jupyter.widget-view+json": {
              "model_id": "47191f6e58a747d19b3eb2f11719b1e6",
              "version_minor": 0,
              "version_major": 2
            },
            "text/plain": [
              "HBox(children=(FloatProgress(value=0.0, description='Downloading', max=1713123.0, style=ProgressStyle(descript…"
            ]
          },
          "metadata": {
            "tags": []
          }
        },
        {
          "output_type": "stream",
          "text": [
            "\n"
          ],
          "name": "stdout"
        },
        {
          "output_type": "display_data",
          "data": {
            "application/vnd.jupyter.widget-view+json": {
              "model_id": "9ddbc0ebba3e487eb9dce91c8b12853b",
              "version_minor": 0,
              "version_major": 2
            },
            "text/plain": [
              "HBox(children=(FloatProgress(value=0.0, description='Downloading', max=1270925.0, style=ProgressStyle(descript…"
            ]
          },
          "metadata": {
            "tags": []
          }
        },
        {
          "output_type": "stream",
          "text": [
            "\n"
          ],
          "name": "stdout"
        },
        {
          "output_type": "display_data",
          "data": {
            "application/vnd.jupyter.widget-view+json": {
              "model_id": "e77f624aebc6403683ea96bf95703064",
              "version_minor": 0,
              "version_major": 2
            },
            "text/plain": [
              "HBox(children=(FloatProgress(value=0.0, description='Downloading', max=609.0, style=ProgressStyle(description_…"
            ]
          },
          "metadata": {
            "tags": []
          }
        },
        {
          "output_type": "stream",
          "text": [
            "\n"
          ],
          "name": "stdout"
        },
        {
          "output_type": "display_data",
          "data": {
            "application/vnd.jupyter.widget-view+json": {
              "model_id": "9e8af4f1c047488793b53661d8bc1bb3",
              "version_minor": 0,
              "version_major": 2
            },
            "text/plain": [
              "HBox(children=(FloatProgress(value=0.0, description='Downloading', max=3141928084.0, style=ProgressStyle(descr…"
            ]
          },
          "metadata": {
            "tags": []
          }
        },
        {
          "output_type": "stream",
          "text": [
            "\n"
          ],
          "name": "stdout"
        },
        {
          "output_type": "error",
          "ename": "RuntimeError",
          "evalue": "ignored",
          "traceback": [
            "\u001b[0;31m---------------------------------------------------------------------------\u001b[0m",
            "\u001b[0;31mRuntimeError\u001b[0m                              Traceback (most recent call last)",
            "\u001b[0;32m<ipython-input-6-2fae2b616220>\u001b[0m in \u001b[0;36m<module>\u001b[0;34m()\u001b[0m\n\u001b[0;32m----> 1\u001b[0;31m \u001b[0mtok\u001b[0m\u001b[0;34m,\u001b[0m \u001b[0mmodel\u001b[0m \u001b[0;34m=\u001b[0m \u001b[0mload_tokenizer_and_model\u001b[0m\u001b[0;34m(\u001b[0m\u001b[0;34m\"sberbank-ai/rugpt3large_based_on_gpt2\"\u001b[0m\u001b[0;34m)\u001b[0m\u001b[0;34m\u001b[0m\u001b[0;34m\u001b[0m\u001b[0m\n\u001b[0m\u001b[1;32m      2\u001b[0m \u001b[0;34m\u001b[0m\u001b[0m\n",
            "\u001b[0;32m<ipython-input-4-c2d6cedd2332>\u001b[0m in \u001b[0;36mload_tokenizer_and_model\u001b[0;34m(model_name_or_path)\u001b[0m\n\u001b[1;32m      1\u001b[0m \u001b[0;32mdef\u001b[0m \u001b[0mload_tokenizer_and_model\u001b[0m\u001b[0;34m(\u001b[0m\u001b[0mmodel_name_or_path\u001b[0m\u001b[0;34m)\u001b[0m\u001b[0;34m:\u001b[0m\u001b[0;34m\u001b[0m\u001b[0;34m\u001b[0m\u001b[0m\n\u001b[0;32m----> 2\u001b[0;31m   \u001b[0;32mreturn\u001b[0m \u001b[0mGPT2Tokenizer\u001b[0m\u001b[0;34m.\u001b[0m\u001b[0mfrom_pretrained\u001b[0m\u001b[0;34m(\u001b[0m\u001b[0mmodel_name_or_path\u001b[0m\u001b[0;34m)\u001b[0m\u001b[0;34m,\u001b[0m \u001b[0mGPT2LMHeadModel\u001b[0m\u001b[0;34m.\u001b[0m\u001b[0mfrom_pretrained\u001b[0m\u001b[0;34m(\u001b[0m\u001b[0mmodel_name_or_path\u001b[0m\u001b[0;34m)\u001b[0m\u001b[0;34m.\u001b[0m\u001b[0mcuda\u001b[0m\u001b[0;34m(\u001b[0m\u001b[0;34m)\u001b[0m\u001b[0;34m\u001b[0m\u001b[0;34m\u001b[0m\u001b[0m\n\u001b[0m\u001b[1;32m      3\u001b[0m \u001b[0;34m\u001b[0m\u001b[0m\n\u001b[1;32m      4\u001b[0m \u001b[0;34m\u001b[0m\u001b[0m\n\u001b[1;32m      5\u001b[0m def generate(\n",
            "\u001b[0;32m/usr/local/lib/python3.7/dist-packages/torch/nn/modules/module.py\u001b[0m in \u001b[0;36mcuda\u001b[0;34m(self, device)\u001b[0m\n\u001b[1;32m    302\u001b[0m             \u001b[0mModule\u001b[0m\u001b[0;34m:\u001b[0m \u001b[0mself\u001b[0m\u001b[0;34m\u001b[0m\u001b[0;34m\u001b[0m\u001b[0m\n\u001b[1;32m    303\u001b[0m         \"\"\"\n\u001b[0;32m--> 304\u001b[0;31m         \u001b[0;32mreturn\u001b[0m \u001b[0mself\u001b[0m\u001b[0;34m.\u001b[0m\u001b[0m_apply\u001b[0m\u001b[0;34m(\u001b[0m\u001b[0;32mlambda\u001b[0m \u001b[0mt\u001b[0m\u001b[0;34m:\u001b[0m \u001b[0mt\u001b[0m\u001b[0;34m.\u001b[0m\u001b[0mcuda\u001b[0m\u001b[0;34m(\u001b[0m\u001b[0mdevice\u001b[0m\u001b[0;34m)\u001b[0m\u001b[0;34m)\u001b[0m\u001b[0;34m\u001b[0m\u001b[0;34m\u001b[0m\u001b[0m\n\u001b[0m\u001b[1;32m    305\u001b[0m \u001b[0;34m\u001b[0m\u001b[0m\n\u001b[1;32m    306\u001b[0m     \u001b[0;32mdef\u001b[0m \u001b[0mcpu\u001b[0m\u001b[0;34m(\u001b[0m\u001b[0mself\u001b[0m\u001b[0;34m)\u001b[0m\u001b[0;34m:\u001b[0m\u001b[0;34m\u001b[0m\u001b[0;34m\u001b[0m\u001b[0m\n",
            "\u001b[0;32m/usr/local/lib/python3.7/dist-packages/torch/nn/modules/module.py\u001b[0m in \u001b[0;36m_apply\u001b[0;34m(self, fn)\u001b[0m\n\u001b[1;32m    199\u001b[0m     \u001b[0;32mdef\u001b[0m \u001b[0m_apply\u001b[0m\u001b[0;34m(\u001b[0m\u001b[0mself\u001b[0m\u001b[0;34m,\u001b[0m \u001b[0mfn\u001b[0m\u001b[0;34m)\u001b[0m\u001b[0;34m:\u001b[0m\u001b[0;34m\u001b[0m\u001b[0;34m\u001b[0m\u001b[0m\n\u001b[1;32m    200\u001b[0m         \u001b[0;32mfor\u001b[0m \u001b[0mmodule\u001b[0m \u001b[0;32min\u001b[0m \u001b[0mself\u001b[0m\u001b[0;34m.\u001b[0m\u001b[0mchildren\u001b[0m\u001b[0;34m(\u001b[0m\u001b[0;34m)\u001b[0m\u001b[0;34m:\u001b[0m\u001b[0;34m\u001b[0m\u001b[0;34m\u001b[0m\u001b[0m\n\u001b[0;32m--> 201\u001b[0;31m             \u001b[0mmodule\u001b[0m\u001b[0;34m.\u001b[0m\u001b[0m_apply\u001b[0m\u001b[0;34m(\u001b[0m\u001b[0mfn\u001b[0m\u001b[0;34m)\u001b[0m\u001b[0;34m\u001b[0m\u001b[0;34m\u001b[0m\u001b[0m\n\u001b[0m\u001b[1;32m    202\u001b[0m \u001b[0;34m\u001b[0m\u001b[0m\n\u001b[1;32m    203\u001b[0m         \u001b[0;32mdef\u001b[0m \u001b[0mcompute_should_use_set_data\u001b[0m\u001b[0;34m(\u001b[0m\u001b[0mtensor\u001b[0m\u001b[0;34m,\u001b[0m \u001b[0mtensor_applied\u001b[0m\u001b[0;34m)\u001b[0m\u001b[0;34m:\u001b[0m\u001b[0;34m\u001b[0m\u001b[0;34m\u001b[0m\u001b[0m\n",
            "\u001b[0;32m/usr/local/lib/python3.7/dist-packages/torch/nn/modules/module.py\u001b[0m in \u001b[0;36m_apply\u001b[0;34m(self, fn)\u001b[0m\n\u001b[1;32m    199\u001b[0m     \u001b[0;32mdef\u001b[0m \u001b[0m_apply\u001b[0m\u001b[0;34m(\u001b[0m\u001b[0mself\u001b[0m\u001b[0;34m,\u001b[0m \u001b[0mfn\u001b[0m\u001b[0;34m)\u001b[0m\u001b[0;34m:\u001b[0m\u001b[0;34m\u001b[0m\u001b[0;34m\u001b[0m\u001b[0m\n\u001b[1;32m    200\u001b[0m         \u001b[0;32mfor\u001b[0m \u001b[0mmodule\u001b[0m \u001b[0;32min\u001b[0m \u001b[0mself\u001b[0m\u001b[0;34m.\u001b[0m\u001b[0mchildren\u001b[0m\u001b[0;34m(\u001b[0m\u001b[0;34m)\u001b[0m\u001b[0;34m:\u001b[0m\u001b[0;34m\u001b[0m\u001b[0;34m\u001b[0m\u001b[0m\n\u001b[0;32m--> 201\u001b[0;31m             \u001b[0mmodule\u001b[0m\u001b[0;34m.\u001b[0m\u001b[0m_apply\u001b[0m\u001b[0;34m(\u001b[0m\u001b[0mfn\u001b[0m\u001b[0;34m)\u001b[0m\u001b[0;34m\u001b[0m\u001b[0;34m\u001b[0m\u001b[0m\n\u001b[0m\u001b[1;32m    202\u001b[0m \u001b[0;34m\u001b[0m\u001b[0m\n\u001b[1;32m    203\u001b[0m         \u001b[0;32mdef\u001b[0m \u001b[0mcompute_should_use_set_data\u001b[0m\u001b[0;34m(\u001b[0m\u001b[0mtensor\u001b[0m\u001b[0;34m,\u001b[0m \u001b[0mtensor_applied\u001b[0m\u001b[0;34m)\u001b[0m\u001b[0;34m:\u001b[0m\u001b[0;34m\u001b[0m\u001b[0;34m\u001b[0m\u001b[0m\n",
            "\u001b[0;32m/usr/local/lib/python3.7/dist-packages/torch/nn/modules/module.py\u001b[0m in \u001b[0;36m_apply\u001b[0;34m(self, fn)\u001b[0m\n\u001b[1;32m    221\u001b[0m                 \u001b[0;31m# `with torch.no_grad():`\u001b[0m\u001b[0;34m\u001b[0m\u001b[0;34m\u001b[0m\u001b[0;34m\u001b[0m\u001b[0m\n\u001b[1;32m    222\u001b[0m                 \u001b[0;32mwith\u001b[0m \u001b[0mtorch\u001b[0m\u001b[0;34m.\u001b[0m\u001b[0mno_grad\u001b[0m\u001b[0;34m(\u001b[0m\u001b[0;34m)\u001b[0m\u001b[0;34m:\u001b[0m\u001b[0;34m\u001b[0m\u001b[0;34m\u001b[0m\u001b[0m\n\u001b[0;32m--> 223\u001b[0;31m                     \u001b[0mparam_applied\u001b[0m \u001b[0;34m=\u001b[0m \u001b[0mfn\u001b[0m\u001b[0;34m(\u001b[0m\u001b[0mparam\u001b[0m\u001b[0;34m)\u001b[0m\u001b[0;34m\u001b[0m\u001b[0;34m\u001b[0m\u001b[0m\n\u001b[0m\u001b[1;32m    224\u001b[0m                 \u001b[0mshould_use_set_data\u001b[0m \u001b[0;34m=\u001b[0m \u001b[0mcompute_should_use_set_data\u001b[0m\u001b[0;34m(\u001b[0m\u001b[0mparam\u001b[0m\u001b[0;34m,\u001b[0m \u001b[0mparam_applied\u001b[0m\u001b[0;34m)\u001b[0m\u001b[0;34m\u001b[0m\u001b[0;34m\u001b[0m\u001b[0m\n\u001b[1;32m    225\u001b[0m                 \u001b[0;32mif\u001b[0m \u001b[0mshould_use_set_data\u001b[0m\u001b[0;34m:\u001b[0m\u001b[0;34m\u001b[0m\u001b[0;34m\u001b[0m\u001b[0m\n",
            "\u001b[0;32m/usr/local/lib/python3.7/dist-packages/torch/nn/modules/module.py\u001b[0m in \u001b[0;36m<lambda>\u001b[0;34m(t)\u001b[0m\n\u001b[1;32m    302\u001b[0m             \u001b[0mModule\u001b[0m\u001b[0;34m:\u001b[0m \u001b[0mself\u001b[0m\u001b[0;34m\u001b[0m\u001b[0;34m\u001b[0m\u001b[0m\n\u001b[1;32m    303\u001b[0m         \"\"\"\n\u001b[0;32m--> 304\u001b[0;31m         \u001b[0;32mreturn\u001b[0m \u001b[0mself\u001b[0m\u001b[0;34m.\u001b[0m\u001b[0m_apply\u001b[0m\u001b[0;34m(\u001b[0m\u001b[0;32mlambda\u001b[0m \u001b[0mt\u001b[0m\u001b[0;34m:\u001b[0m \u001b[0mt\u001b[0m\u001b[0;34m.\u001b[0m\u001b[0mcuda\u001b[0m\u001b[0;34m(\u001b[0m\u001b[0mdevice\u001b[0m\u001b[0;34m)\u001b[0m\u001b[0;34m)\u001b[0m\u001b[0;34m\u001b[0m\u001b[0;34m\u001b[0m\u001b[0m\n\u001b[0m\u001b[1;32m    305\u001b[0m \u001b[0;34m\u001b[0m\u001b[0m\n\u001b[1;32m    306\u001b[0m     \u001b[0;32mdef\u001b[0m \u001b[0mcpu\u001b[0m\u001b[0;34m(\u001b[0m\u001b[0mself\u001b[0m\u001b[0;34m)\u001b[0m\u001b[0;34m:\u001b[0m\u001b[0;34m\u001b[0m\u001b[0;34m\u001b[0m\u001b[0m\n",
            "\u001b[0;32m/usr/local/lib/python3.7/dist-packages/torch/cuda/__init__.py\u001b[0m in \u001b[0;36m_lazy_init\u001b[0;34m()\u001b[0m\n\u001b[1;32m    195\u001b[0m                 \"Cannot re-initialize CUDA in forked subprocess. \" + msg)\n\u001b[1;32m    196\u001b[0m         \u001b[0m_check_driver\u001b[0m\u001b[0;34m(\u001b[0m\u001b[0;34m)\u001b[0m\u001b[0;34m\u001b[0m\u001b[0;34m\u001b[0m\u001b[0m\n\u001b[0;32m--> 197\u001b[0;31m         \u001b[0mtorch\u001b[0m\u001b[0;34m.\u001b[0m\u001b[0m_C\u001b[0m\u001b[0;34m.\u001b[0m\u001b[0m_cuda_init\u001b[0m\u001b[0;34m(\u001b[0m\u001b[0;34m)\u001b[0m\u001b[0;34m\u001b[0m\u001b[0;34m\u001b[0m\u001b[0m\n\u001b[0m\u001b[1;32m    198\u001b[0m         \u001b[0m_cudart\u001b[0m \u001b[0;34m=\u001b[0m \u001b[0m_load_cudart\u001b[0m\u001b[0;34m(\u001b[0m\u001b[0;34m)\u001b[0m\u001b[0;34m\u001b[0m\u001b[0;34m\u001b[0m\u001b[0m\n\u001b[1;32m    199\u001b[0m         \u001b[0m_cudart\u001b[0m\u001b[0;34m.\u001b[0m\u001b[0mcudaGetErrorName\u001b[0m\u001b[0;34m.\u001b[0m\u001b[0mrestype\u001b[0m \u001b[0;34m=\u001b[0m \u001b[0mctypes\u001b[0m\u001b[0;34m.\u001b[0m\u001b[0mc_char_p\u001b[0m\u001b[0;34m\u001b[0m\u001b[0;34m\u001b[0m\u001b[0m\n",
            "\u001b[0;31mRuntimeError\u001b[0m: cuda runtime error (100) : no CUDA-capable device is detected at /pytorch/aten/src/THC/THCGeneral.cpp:50"
          ]
        }
      ]
    },
    {
      "cell_type": "code",
      "metadata": {
        "id": "bp192ZZ4RR_q"
      },
      "source": [
        "def load_tokenizer_and_model(model_name_or_path):\n",
        "  return GPT2Tokenizer.from_pretrained(model_name_or_path), GPT2LMHeadModel.from_pretrained(model_name_or_path).cuda()\n",
        "\n",
        "\n",
        "def generate(\n",
        "    model, tok, text,\n",
        "    do_sample=True, max_length=120, repetition_penalty=5.0,\n",
        "    top_k=5, top_p=0.95, temperature=1,\n",
        "    num_beams=None,\n",
        "    no_repeat_ngram_size=3\n",
        "    ):\n",
        "  input_ids = tok.encode(text, return_tensors=\"pt\").cuda()\n",
        "  out = model.generate(\n",
        "      input_ids.cuda(),\n",
        "      max_length=max_length,\n",
        "      repetition_penalty=repetition_penalty,\n",
        "      do_sample=do_sample,\n",
        "      top_k=top_k, top_p=top_p, temperature=temperature,\n",
        "      num_beams=num_beams, no_repeat_ngram_size=no_repeat_ngram_size\n",
        "      )\n",
        "  return list(map(tok.decode, out))"
      ],
      "execution_count": 4,
      "outputs": []
    },
    {
      "cell_type": "code",
      "metadata": {
        "id": "EhU-FKG1Ssfe"
      },
      "source": [
        "generated = generate(model, tok, \"Как показывает практика, лидеры российской оппозиции вовсе не борются с властью\", num_beams=10)\n",
        "generated[0]"
      ],
      "execution_count": null,
      "outputs": []
    },
    {
      "cell_type": "code",
      "metadata": {
        "id": "-KE7cR83jeGA",
        "outputId": "268fd665-c17d-4ec3-c265-582e20b8ca9d",
        "colab": {
          "base_uri": "https://localhost:8080/"
        }
      },
      "source": [
        "!pip install pytelegrambotapi\n",
        "\n",
        "!pip install bs4\n",
        "\n",
        "!pip install requests"
      ],
      "execution_count": 31,
      "outputs": [
        {
          "output_type": "stream",
          "text": [
            "Requirement already satisfied: pytelegrambotapi in /usr/local/lib/python3.7/dist-packages (3.7.9)\n",
            "Requirement already satisfied: requests in /usr/local/lib/python3.7/dist-packages (from pytelegrambotapi) (2.23.0)\n",
            "Requirement already satisfied: chardet<4,>=3.0.2 in /usr/local/lib/python3.7/dist-packages (from requests->pytelegrambotapi) (3.0.4)\n",
            "Requirement already satisfied: idna<3,>=2.5 in /usr/local/lib/python3.7/dist-packages (from requests->pytelegrambotapi) (2.10)\n",
            "Requirement already satisfied: certifi>=2017.4.17 in /usr/local/lib/python3.7/dist-packages (from requests->pytelegrambotapi) (2020.12.5)\n",
            "Requirement already satisfied: urllib3!=1.25.0,!=1.25.1,<1.26,>=1.21.1 in /usr/local/lib/python3.7/dist-packages (from requests->pytelegrambotapi) (1.24.3)\n",
            "Requirement already satisfied: bs4 in /usr/local/lib/python3.7/dist-packages (0.0.1)\n",
            "Requirement already satisfied: beautifulsoup4 in /usr/local/lib/python3.7/dist-packages (from bs4) (4.6.3)\n",
            "Requirement already satisfied: requests in /usr/local/lib/python3.7/dist-packages (2.23.0)\n",
            "Requirement already satisfied: urllib3!=1.25.0,!=1.25.1,<1.26,>=1.21.1 in /usr/local/lib/python3.7/dist-packages (from requests) (1.24.3)\n",
            "Requirement already satisfied: certifi>=2017.4.17 in /usr/local/lib/python3.7/dist-packages (from requests) (2020.12.5)\n",
            "Requirement already satisfied: idna<3,>=2.5 in /usr/local/lib/python3.7/dist-packages (from requests) (2.10)\n",
            "Requirement already satisfied: chardet<4,>=3.0.2 in /usr/local/lib/python3.7/dist-packages (from requests) (3.0.4)\n"
          ],
          "name": "stdout"
        }
      ]
    },
    {
      "cell_type": "code",
      "metadata": {
        "id": "vvRNDqkAjXzR"
      },
      "source": [
        "import telebot, bs4, requests"
      ],
      "execution_count": 50,
      "outputs": []
    },
    {
      "cell_type": "code",
      "metadata": {
        "id": "ckT4N5UciV2N"
      },
      "source": [
        "def getanekdot():\n",
        "    z=''\n",
        "    s=requests.get('http://anekdotme.ru/random')\n",
        "    b=bs4.BeautifulSoup(s.text, \"html.parser\")\n",
        "    p=b.select('.anekdot_text')\n",
        "    for x in p:        \n",
        "        s=(x.getText().strip())\n",
        "        z=z+s+'\\n\\n'\n",
        "    return s"
      ],
      "execution_count": 49,
      "outputs": []
    },
    {
      "cell_type": "code",
      "metadata": {
        "id": "8I3Y-e_Vyq89"
      },
      "source": [
        "import requests\n",
        "import json"
      ],
      "execution_count": 11,
      "outputs": []
    },
    {
      "cell_type": "code",
      "metadata": {
        "id": "FE5nns8JytVa"
      },
      "source": [
        "\n",
        "api_key = \"8d8a2f2ac3e6c6a10d4121159cd85735\"\n",
        "lat = \"55.755825\"\n",
        "lon = \"37.617298\"\n",
        "url = \"https://api.openweathermap.org/data/2.5/onecall?lat=%s&lon=%s&appid=%s&units=metric\" % (lat, lon, api_key)\n",
        "response = requests.get(url,params={'units': 'metric', 'lang': 'ru'})\n",
        "data = json.loads(response.text)\n",
        "data = response.json()\n",
        "print(data)"
      ],
      "execution_count": 35,
      "outputs": []
    },
    {
      "cell_type": "code",
      "metadata": {
        "id": "8gTRvA2oHBAu"
      },
      "source": [
        "\n",
        "api_key = \"8d8a2f2ac3e6c6a10d4121159cd85735\"\n",
        "lat = \"59.938480\"\n",
        "lon = \"30.312481\"\n",
        "url = \"https://api.openweathermap.org/data/2.5/onecall?lat=%s&lon=%s&appid=%s&units=metric\" % (lat, lon, api_key)\n",
        "response = requests.get(url,params={'units': 'metric', 'lang': 'ru'})\n",
        "data = json.loads(response.text)\n",
        "data = response.json()"
      ],
      "execution_count": 41,
      "outputs": []
    },
    {
      "cell_type": "code",
      "metadata": {
        "id": "5U3WXpC2RFAE",
        "outputId": "31340363-2682-43af-ceda-6db09526238b",
        "colab": {
          "base_uri": "https://localhost:8080/"
        }
      },
      "source": [
        "weatherM()\n",
        "weatherP()"
      ],
      "execution_count": 36,
      "outputs": [
        {
          "output_type": "stream",
          "text": [
            "{'lat': 55.7558, 'lon': 37.6173, 'timezone': 'Europe/Moscow', 'timezone_offset': 10800, 'current': {'dt': 1623435860, 'sunrise': 1623372348, 'sunset': 1623435165, 'temp': 16.56, 'feels_like': 16.57, 'pressure': 1012, 'humidity': 88, 'dew_point': 14.57, 'uvi': 0, 'clouds': 75, 'visibility': 10000, 'wind_speed': 5, 'wind_deg': 60, 'weather': [{'id': 500, 'main': 'Rain', 'description': 'небольшой дождь', 'icon': '10n'}], 'rain': {'1h': 0.42}}, 'minutely': [{'dt': 1623435900, 'precipitation': 0.421}, {'dt': 1623435960, 'precipitation': 0.5674}, {'dt': 1623436020, 'precipitation': 0.7138}, {'dt': 1623436080, 'precipitation': 0.8602}, {'dt': 1623436140, 'precipitation': 1.0066}, {'dt': 1623436200, 'precipitation': 1.153}, {'dt': 1623436260, 'precipitation': 1.153}, {'dt': 1623436320, 'precipitation': 1.153}, {'dt': 1623436380, 'precipitation': 1.153}, {'dt': 1623436440, 'precipitation': 1.153}, {'dt': 1623436500, 'precipitation': 1.153}, {'dt': 1623436560, 'precipitation': 1.4692}, {'dt': 1623436620, 'precipitation': 1.7854}, {'dt': 1623436680, 'precipitation': 2.1016}, {'dt': 1623436740, 'precipitation': 2.4178}, {'dt': 1623436800, 'precipitation': 2.734}, {'dt': 1623436860, 'precipitation': 2.734}, {'dt': 1623436920, 'precipitation': 2.734}, {'dt': 1623436980, 'precipitation': 2.734}, {'dt': 1623437040, 'precipitation': 2.734}, {'dt': 1623437100, 'precipitation': 2.734}, {'dt': 1623437160, 'precipitation': 2.734}, {'dt': 1623437220, 'precipitation': 2.734}, {'dt': 1623437280, 'precipitation': 2.734}, {'dt': 1623437340, 'precipitation': 2.734}, {'dt': 1623437400, 'precipitation': 2.734}, {'dt': 1623437460, 'precipitation': 2.4536}, {'dt': 1623437520, 'precipitation': 2.1732}, {'dt': 1623437580, 'precipitation': 1.8928}, {'dt': 1623437640, 'precipitation': 1.6124}, {'dt': 1623437700, 'precipitation': 1.332}, {'dt': 1623437760, 'precipitation': 1.332}, {'dt': 1623437820, 'precipitation': 1.332}, {'dt': 1623437880, 'precipitation': 1.332}, {'dt': 1623437940, 'precipitation': 1.332}, {'dt': 1623438000, 'precipitation': 1.332}, {'dt': 1623438060, 'precipitation': 1.332}, {'dt': 1623438120, 'precipitation': 1.332}, {'dt': 1623438180, 'precipitation': 1.332}, {'dt': 1623438240, 'precipitation': 1.332}, {'dt': 1623438300, 'precipitation': 1.332}, {'dt': 1623438360, 'precipitation': 1.332}, {'dt': 1623438420, 'precipitation': 1.332}, {'dt': 1623438480, 'precipitation': 1.332}, {'dt': 1623438540, 'precipitation': 1.332}, {'dt': 1623438600, 'precipitation': 1.332}, {'dt': 1623438660, 'precipitation': 1.2654}, {'dt': 1623438720, 'precipitation': 1.1988}, {'dt': 1623438780, 'precipitation': 1.1322}, {'dt': 1623438840, 'precipitation': 1.0656}, {'dt': 1623438900, 'precipitation': 0.999}, {'dt': 1623438960, 'precipitation': 0.9722}, {'dt': 1623439020, 'precipitation': 0.9454}, {'dt': 1623439080, 'precipitation': 0.9186}, {'dt': 1623439140, 'precipitation': 0.8918}, {'dt': 1623439200, 'precipitation': 0.865}, {'dt': 1623439260, 'precipitation': 0.8918}, {'dt': 1623439320, 'precipitation': 0.9186}, {'dt': 1623439380, 'precipitation': 0.9454}, {'dt': 1623439440, 'precipitation': 0.9722}, {'dt': 1623439500, 'precipitation': 0.999}], 'hourly': [{'dt': 1623434400, 'temp': 16.56, 'feels_like': 16.57, 'pressure': 1012, 'humidity': 88, 'dew_point': 14.57, 'uvi': 0, 'clouds': 75, 'visibility': 10000, 'wind_speed': 2.41, 'wind_deg': 44, 'wind_gust': 7.09, 'weather': [{'id': 803, 'main': 'Clouds', 'description': 'облачно с прояснениями', 'icon': '04d'}], 'pop': 0}, {'dt': 1623438000, 'temp': 16.16, 'feels_like': 16.18, 'pressure': 1012, 'humidity': 90, 'dew_point': 14.52, 'uvi': 0, 'clouds': 80, 'visibility': 10000, 'wind_speed': 2.56, 'wind_deg': 53, 'wind_gust': 8.04, 'weather': [{'id': 501, 'main': 'Rain', 'description': 'дождь', 'icon': '10n'}], 'pop': 0.2, 'rain': {'1h': 1.33}}, {'dt': 1623441600, 'temp': 15.77, 'feels_like': 15.8, 'pressure': 1012, 'humidity': 92, 'dew_point': 14.47, 'uvi': 0, 'clouds': 85, 'visibility': 10000, 'wind_speed': 2.24, 'wind_deg': 51, 'wind_gust': 7.58, 'weather': [{'id': 501, 'main': 'Rain', 'description': 'дождь', 'icon': '10n'}], 'pop': 0.2, 'rain': {'1h': 1.33}}, {'dt': 1623445200, 'temp': 15.4, 'feels_like': 15.42, 'pressure': 1011, 'humidity': 93, 'dew_point': 14.27, 'uvi': 0, 'clouds': 90, 'visibility': 10000, 'wind_speed': 2.4, 'wind_deg': 53, 'wind_gust': 7.8, 'weather': [{'id': 804, 'main': 'Clouds', 'description': 'пасмурно', 'icon': '04n'}], 'pop': 0}, {'dt': 1623448800, 'temp': 14.87, 'feels_like': 14.89, 'pressure': 1011, 'humidity': 95, 'dew_point': 14.08, 'uvi': 0, 'clouds': 95, 'visibility': 10000, 'wind_speed': 2.47, 'wind_deg': 61, 'wind_gust': 7.22, 'weather': [{'id': 804, 'main': 'Clouds', 'description': 'пасмурно', 'icon': '04n'}], 'pop': 0}, {'dt': 1623452400, 'temp': 14.07, 'feels_like': 14.04, 'pressure': 1011, 'humidity': 96, 'dew_point': 13.49, 'uvi': 0, 'clouds': 100, 'visibility': 10000, 'wind_speed': 2.48, 'wind_deg': 69, 'wind_gust': 6.17, 'weather': [{'id': 804, 'main': 'Clouds', 'description': 'пасмурно', 'icon': '04n'}], 'pop': 0}, {'dt': 1623456000, 'temp': 13.38, 'feels_like': 13.31, 'pressure': 1011, 'humidity': 97, 'dew_point': 13.02, 'uvi': 0, 'clouds': 97, 'visibility': 10000, 'wind_speed': 2.15, 'wind_deg': 72, 'wind_gust': 5.21, 'weather': [{'id': 804, 'main': 'Clouds', 'description': 'пасмурно', 'icon': '04n'}], 'pop': 0}, {'dt': 1623459600, 'temp': 12.94, 'feels_like': 12.85, 'pressure': 1011, 'humidity': 98, 'dew_point': 12.73, 'uvi': 0, 'clouds': 87, 'visibility': 10000, 'wind_speed': 1.88, 'wind_deg': 67, 'wind_gust': 4.19, 'weather': [{'id': 500, 'main': 'Rain', 'description': 'небольшой дождь', 'icon': '10d'}], 'pop': 0.4, 'rain': {'1h': 0.18}}, {'dt': 1623463200, 'temp': 13.4, 'feels_like': 13.35, 'pressure': 1011, 'humidity': 98, 'dew_point': 13.07, 'uvi': 0.08, 'clouds': 92, 'visibility': 10000, 'wind_speed': 1.75, 'wind_deg': 65, 'wind_gust': 3.92, 'weather': [{'id': 804, 'main': 'Clouds', 'description': 'пасмурно', 'icon': '04d'}], 'pop': 0.4}, {'dt': 1623466800, 'temp': 13.96, 'feels_like': 13.94, 'pressure': 1011, 'humidity': 97, 'dew_point': 13.51, 'uvi': 0.22, 'clouds': 94, 'visibility': 10000, 'wind_speed': 1.92, 'wind_deg': 74, 'wind_gust': 3.56, 'weather': [{'id': 804, 'main': 'Clouds', 'description': 'пасмурно', 'icon': '04d'}], 'pop': 0.44}, {'dt': 1623470400, 'temp': 14.48, 'feels_like': 14.49, 'pressure': 1011, 'humidity': 96, 'dew_point': 13.91, 'uvi': 0.31, 'clouds': 96, 'visibility': 10000, 'wind_speed': 1.84, 'wind_deg': 76, 'wind_gust': 3.21, 'weather': [{'id': 804, 'main': 'Clouds', 'description': 'пасмурно', 'icon': '04d'}], 'pop': 0.44}, {'dt': 1623474000, 'temp': 15.18, 'feels_like': 15.21, 'pressure': 1010, 'humidity': 94, 'dew_point': 14.22, 'uvi': 0.59, 'clouds': 97, 'visibility': 10000, 'wind_speed': 1.66, 'wind_deg': 81, 'wind_gust': 2.78, 'weather': [{'id': 804, 'main': 'Clouds', 'description': 'пасмурно', 'icon': '04d'}], 'pop': 0.42}, {'dt': 1623477600, 'temp': 15.77, 'feels_like': 15.75, 'pressure': 1010, 'humidity': 90, 'dew_point': 14.19, 'uvi': 0.94, 'clouds': 97, 'visibility': 10000, 'wind_speed': 1.45, 'wind_deg': 96, 'wind_gust': 2.53, 'weather': [{'id': 804, 'main': 'Clouds', 'description': 'пасмурно', 'icon': '04d'}], 'pop': 0.42}, {'dt': 1623481200, 'temp': 16.05, 'feels_like': 16.01, 'pressure': 1010, 'humidity': 88, 'dew_point': 14.22, 'uvi': 1.28, 'clouds': 100, 'visibility': 10000, 'wind_speed': 1.19, 'wind_deg': 110, 'wind_gust': 2.09, 'weather': [{'id': 804, 'main': 'Clouds', 'description': 'пасмурно', 'icon': '04d'}], 'pop': 0.24}, {'dt': 1623484800, 'temp': 16.25, 'feels_like': 16.25, 'pressure': 1010, 'humidity': 89, 'dew_point': 14.37, 'uvi': 1.59, 'clouds': 100, 'visibility': 10000, 'wind_speed': 0.78, 'wind_deg': 97, 'wind_gust': 1.27, 'weather': [{'id': 500, 'main': 'Rain', 'description': 'небольшой дождь', 'icon': '10d'}], 'pop': 0.54, 'rain': {'1h': 0.19}}, {'dt': 1623488400, 'temp': 16.67, 'feels_like': 16.69, 'pressure': 1010, 'humidity': 88, 'dew_point': 14.62, 'uvi': 1.77, 'clouds': 100, 'visibility': 10000, 'wind_speed': 0.43, 'wind_deg': 105, 'wind_gust': 0.88, 'weather': [{'id': 500, 'main': 'Rain', 'description': 'небольшой дождь', 'icon': '10d'}], 'pop': 0.66, 'rain': {'1h': 0.16}}, {'dt': 1623492000, 'temp': 17.15, 'feels_like': 17.14, 'pressure': 1009, 'humidity': 85, 'dew_point': 14.67, 'uvi': 1.98, 'clouds': 100, 'visibility': 10000, 'wind_speed': 0.17, 'wind_deg': 69, 'wind_gust': 0.51, 'weather': [{'id': 804, 'main': 'Clouds', 'description': 'пасмурно', 'icon': '04d'}], 'pop': 0.64}, {'dt': 1623495600, 'temp': 17.74, 'feels_like': 17.71, 'pressure': 1009, 'humidity': 82, 'dew_point': 14.72, 'uvi': 1.78, 'clouds': 100, 'visibility': 10000, 'wind_speed': 0.19, 'wind_deg': 67, 'wind_gust': 0.49, 'weather': [{'id': 804, 'main': 'Clouds', 'description': 'пасмурно', 'icon': '04d'}], 'pop': 0.48}, {'dt': 1623499200, 'temp': 18.05, 'feels_like': 18, 'pressure': 1008, 'humidity': 80, 'dew_point': 14.77, 'uvi': 1.43, 'clouds': 100, 'visibility': 10000, 'wind_speed': 0.24, 'wind_deg': 85, 'wind_gust': 0.49, 'weather': [{'id': 804, 'main': 'Clouds', 'description': 'пасмурно', 'icon': '04d'}], 'pop': 0.44}, {'dt': 1623502800, 'temp': 18.42, 'feels_like': 18.38, 'pressure': 1008, 'humidity': 79, 'dew_point': 14.72, 'uvi': 2.5, 'clouds': 100, 'visibility': 10000, 'wind_speed': 0.52, 'wind_deg': 123, 'wind_gust': 0.7, 'weather': [{'id': 804, 'main': 'Clouds', 'description': 'пасмурно', 'icon': '04d'}], 'pop': 0.09}, {'dt': 1623506400, 'temp': 19.03, 'feels_like': 18.95, 'pressure': 1008, 'humidity': 75, 'dew_point': 14.72, 'uvi': 1.55, 'clouds': 98, 'visibility': 10000, 'wind_speed': 0.83, 'wind_deg': 158, 'wind_gust': 0.92, 'weather': [{'id': 804, 'main': 'Clouds', 'description': 'пасмурно', 'icon': '04d'}], 'pop': 0.09}, {'dt': 1623510000, 'temp': 19.32, 'feels_like': 19.24, 'pressure': 1007, 'humidity': 74, 'dew_point': 14.57, 'uvi': 0.82, 'clouds': 94, 'visibility': 10000, 'wind_speed': 1.02, 'wind_deg': 175, 'wind_gust': 1.13, 'weather': [{'id': 804, 'main': 'Clouds', 'description': 'пасмурно', 'icon': '04d'}], 'pop': 0.07}, {'dt': 1623513600, 'temp': 19.07, 'feels_like': 18.99, 'pressure': 1007, 'humidity': 75, 'dew_point': 14.62, 'uvi': 0.32, 'clouds': 92, 'visibility': 10000, 'wind_speed': 1.34, 'wind_deg': 183, 'wind_gust': 1.77, 'weather': [{'id': 804, 'main': 'Clouds', 'description': 'пасмурно', 'icon': '04d'}], 'pop': 0.07}, {'dt': 1623517200, 'temp': 18.41, 'feels_like': 18.32, 'pressure': 1007, 'humidity': 77, 'dew_point': 14.35, 'uvi': 0.11, 'clouds': 90, 'visibility': 10000, 'wind_speed': 1.51, 'wind_deg': 188, 'wind_gust': 1.55, 'weather': [{'id': 804, 'main': 'Clouds', 'description': 'пасмурно', 'icon': '04d'}], 'pop': 0.07}, {'dt': 1623520800, 'temp': 17.65, 'feels_like': 17.51, 'pressure': 1007, 'humidity': 78, 'dew_point': 13.85, 'uvi': 0, 'clouds': 88, 'visibility': 10000, 'wind_speed': 1.48, 'wind_deg': 199, 'wind_gust': 1.52, 'weather': [{'id': 804, 'main': 'Clouds', 'description': 'пасмурно', 'icon': '04d'}], 'pop': 0.07}, {'dt': 1623524400, 'temp': 17.02, 'feels_like': 16.92, 'pressure': 1006, 'humidity': 82, 'dew_point': 13.89, 'uvi': 0, 'clouds': 71, 'visibility': 10000, 'wind_speed': 1.29, 'wind_deg': 207, 'wind_gust': 1.27, 'weather': [{'id': 803, 'main': 'Clouds', 'description': 'облачно с прояснениями', 'icon': '04n'}], 'pop': 0}, {'dt': 1623528000, 'temp': 16.45, 'feels_like': 16.37, 'pressure': 1006, 'humidity': 85, 'dew_point': 13.88, 'uvi': 0, 'clouds': 67, 'visibility': 10000, 'wind_speed': 1.69, 'wind_deg': 218, 'wind_gust': 1.67, 'weather': [{'id': 803, 'main': 'Clouds', 'description': 'облачно с прояснениями', 'icon': '04n'}], 'pop': 0}, {'dt': 1623531600, 'temp': 15.7, 'feels_like': 15.65, 'pressure': 1006, 'humidity': 89, 'dew_point': 13.87, 'uvi': 0, 'clouds': 57, 'visibility': 10000, 'wind_speed': 1.65, 'wind_deg': 226, 'wind_gust': 1.64, 'weather': [{'id': 803, 'main': 'Clouds', 'description': 'облачно с прояснениями', 'icon': '04n'}], 'pop': 0}, {'dt': 1623535200, 'temp': 15.12, 'feels_like': 15.06, 'pressure': 1006, 'humidity': 91, 'dew_point': 13.67, 'uvi': 0, 'clouds': 48, 'visibility': 10000, 'wind_speed': 1.73, 'wind_deg': 230, 'wind_gust': 1.89, 'weather': [{'id': 802, 'main': 'Clouds', 'description': 'переменная облачность', 'icon': '03n'}], 'pop': 0}, {'dt': 1623538800, 'temp': 14.57, 'feels_like': 14.48, 'pressure': 1005, 'humidity': 92, 'dew_point': 13.22, 'uvi': 0, 'clouds': 39, 'visibility': 10000, 'wind_speed': 1.79, 'wind_deg': 235, 'wind_gust': 2.12, 'weather': [{'id': 802, 'main': 'Clouds', 'description': 'переменная облачность', 'icon': '03n'}], 'pop': 0}, {'dt': 1623542400, 'temp': 14.15, 'feels_like': 14.02, 'pressure': 1005, 'humidity': 92, 'dew_point': 12.89, 'uvi': 0, 'clouds': 33, 'visibility': 10000, 'wind_speed': 1.58, 'wind_deg': 227, 'wind_gust': 1.6, 'weather': [{'id': 802, 'main': 'Clouds', 'description': 'переменная облачность', 'icon': '03n'}], 'pop': 0}, {'dt': 1623546000, 'temp': 13.75, 'feels_like': 13.58, 'pressure': 1005, 'humidity': 92, 'dew_point': 12.56, 'uvi': 0, 'clouds': 0, 'visibility': 10000, 'wind_speed': 1.67, 'wind_deg': 225, 'wind_gust': 1.71, 'weather': [{'id': 800, 'main': 'Clear', 'description': 'ясно', 'icon': '01d'}], 'pop': 0}, {'dt': 1623549600, 'temp': 14.1, 'feels_like': 13.92, 'pressure': 1005, 'humidity': 90, 'dew_point': 12.51, 'uvi': 0.14, 'clouds': 1, 'visibility': 10000, 'wind_speed': 1.64, 'wind_deg': 225, 'wind_gust': 2.51, 'weather': [{'id': 800, 'main': 'Clear', 'description': 'ясно', 'icon': '01d'}], 'pop': 0}, {'dt': 1623553200, 'temp': 15.31, 'feels_like': 15.09, 'pressure': 1005, 'humidity': 84, 'dew_point': 12.66, 'uvi': 0.4, 'clouds': 3, 'visibility': 10000, 'wind_speed': 1.75, 'wind_deg': 227, 'wind_gust': 3.02, 'weather': [{'id': 800, 'main': 'Clear', 'description': 'ясно', 'icon': '01d'}], 'pop': 0}, {'dt': 1623556800, 'temp': 16.8, 'feels_like': 16.52, 'pressure': 1005, 'humidity': 76, 'dew_point': 12.72, 'uvi': 0.9, 'clouds': 2, 'visibility': 10000, 'wind_speed': 1.84, 'wind_deg': 221, 'wind_gust': 2.89, 'weather': [{'id': 800, 'main': 'Clear', 'description': 'ясно', 'icon': '01d'}], 'pop': 0}, {'dt': 1623560400, 'temp': 18.42, 'feels_like': 18.15, 'pressure': 1005, 'humidity': 70, 'dew_point': 12.77, 'uvi': 1.7, 'clouds': 2, 'visibility': 10000, 'wind_speed': 2.14, 'wind_deg': 217, 'wind_gust': 3.25, 'weather': [{'id': 800, 'main': 'Clear', 'description': 'ясно', 'icon': '01d'}], 'pop': 0}, {'dt': 1623564000, 'temp': 19.66, 'feels_like': 19.38, 'pressure': 1005, 'humidity': 65, 'dew_point': 12.91, 'uvi': 2.72, 'clouds': 17, 'visibility': 10000, 'wind_speed': 2.48, 'wind_deg': 210, 'wind_gust': 3.57, 'weather': [{'id': 801, 'main': 'Clouds', 'description': 'небольшая облачность', 'icon': '02d'}], 'pop': 0}, {'dt': 1623567600, 'temp': 20.96, 'feels_like': 20.68, 'pressure': 1005, 'humidity': 60, 'dew_point': 12.91, 'uvi': 4.04, 'clouds': 97, 'visibility': 10000, 'wind_speed': 2.6, 'wind_deg': 204, 'wind_gust': 3.43, 'weather': [{'id': 804, 'main': 'Clouds', 'description': 'пасмурно', 'icon': '04d'}], 'pop': 0.12}, {'dt': 1623571200, 'temp': 22.2, 'feels_like': 21.89, 'pressure': 1005, 'humidity': 54, 'dew_point': 12.71, 'uvi': 5.03, 'clouds': 74, 'visibility': 10000, 'wind_speed': 3.07, 'wind_deg': 199, 'wind_gust': 3.91, 'weather': [{'id': 803, 'main': 'Clouds', 'description': 'облачно с прояснениями', 'icon': '04d'}], 'pop': 0.08}, {'dt': 1623574800, 'temp': 23.27, 'feels_like': 22.93, 'pressure': 1005, 'humidity': 49, 'dew_point': 12.31, 'uvi': 5.6, 'clouds': 59, 'visibility': 10000, 'wind_speed': 3.28, 'wind_deg': 200, 'wind_gust': 4.15, 'weather': [{'id': 803, 'main': 'Clouds', 'description': 'облачно с прояснениями', 'icon': '04d'}], 'pop': 0.14}, {'dt': 1623578400, 'temp': 24.27, 'feels_like': 23.9, 'pressure': 1004, 'humidity': 44, 'dew_point': 11.61, 'uvi': 5.48, 'clouds': 55, 'visibility': 10000, 'wind_speed': 3.35, 'wind_deg': 201, 'wind_gust': 4.31, 'weather': [{'id': 803, 'main': 'Clouds', 'description': 'облачно с прояснениями', 'icon': '04d'}], 'pop': 0.1}, {'dt': 1623582000, 'temp': 24.97, 'feels_like': 24.57, 'pressure': 1004, 'humidity': 40, 'dew_point': 10.77, 'uvi': 4.93, 'clouds': 47, 'visibility': 10000, 'wind_speed': 3.42, 'wind_deg': 201, 'wind_gust': 4.4, 'weather': [{'id': 802, 'main': 'Clouds', 'description': 'переменная облачность', 'icon': '03d'}], 'pop': 0.1}, {'dt': 1623585600, 'temp': 25.47, 'feels_like': 25.09, 'pressure': 1004, 'humidity': 39, 'dew_point': 10.62, 'uvi': 3.96, 'clouds': 43, 'visibility': 10000, 'wind_speed': 3.6, 'wind_deg': 195, 'wind_gust': 4.54, 'weather': [{'id': 802, 'main': 'Clouds', 'description': 'переменная облачность', 'icon': '03d'}], 'pop': 0.1}, {'dt': 1623589200, 'temp': 24.97, 'feels_like': 24.59, 'pressure': 1004, 'humidity': 41, 'dew_point': 10.97, 'uvi': 2.5, 'clouds': 89, 'visibility': 10000, 'wind_speed': 3.72, 'wind_deg': 191, 'wind_gust': 4.42, 'weather': [{'id': 804, 'main': 'Clouds', 'description': 'пасмурно', 'icon': '04d'}], 'pop': 0}, {'dt': 1623592800, 'temp': 23.31, 'feels_like': 22.98, 'pressure': 1004, 'humidity': 49, 'dew_point': 12.22, 'uvi': 1.56, 'clouds': 94, 'visibility': 10000, 'wind_speed': 2.99, 'wind_deg': 182, 'wind_gust': 5.2, 'weather': [{'id': 804, 'main': 'Clouds', 'description': 'пасмурно', 'icon': '04d'}], 'pop': 0}, {'dt': 1623596400, 'temp': 22.57, 'feels_like': 22.32, 'pressure': 1004, 'humidity': 55, 'dew_point': 13.27, 'uvi': 0.82, 'clouds': 96, 'visibility': 10000, 'wind_speed': 3.39, 'wind_deg': 184, 'wind_gust': 6.2, 'weather': [{'id': 804, 'main': 'Clouds', 'description': 'пасмурно', 'icon': '04d'}], 'pop': 0.04}, {'dt': 1623600000, 'temp': 21.73, 'feels_like': 21.53, 'pressure': 1005, 'humidity': 60, 'dew_point': 13.68, 'uvi': 0.23, 'clouds': 97, 'visibility': 10000, 'wind_speed': 3.35, 'wind_deg': 184, 'wind_gust': 7.07, 'weather': [{'id': 804, 'main': 'Clouds', 'description': 'пасмурно', 'icon': '04d'}], 'pop': 0.14}, {'dt': 1623603600, 'temp': 20.97, 'feels_like': 20.77, 'pressure': 1005, 'humidity': 63, 'dew_point': 13.72, 'uvi': 0.08, 'clouds': 97, 'visibility': 10000, 'wind_speed': 3.43, 'wind_deg': 189, 'wind_gust': 7.85, 'weather': [{'id': 804, 'main': 'Clouds', 'description': 'пасмурно', 'icon': '04d'}], 'pop': 0.14}], 'daily': [{'dt': 1623402000, 'sunrise': 1623372348, 'sunset': 1623435165, 'moonrise': 1623373620, 'moonset': 1623439920, 'moon_phase': 0.03, 'temp': {'day': 13.15, 'min': 12.13, 'max': 16.56, 'night': 15.77, 'eve': 15.7, 'morn': 12.73}, 'feels_like': {'day': 13.03, 'night': 12.49, 'eve': 15.73, 'morn': 12.49}, 'pressure': 1013, 'humidity': 96, 'dew_point': 12.52, 'wind_speed': 3.47, 'wind_deg': 49, 'wind_gust': 9.35, 'weather': [{'id': 501, 'main': 'Rain', 'description': 'дождь', 'icon': '10d'}], 'clouds': 100, 'pop': 0.8, 'rain': 6.57, 'uvi': 1.01}, {'dt': 1623488400, 'sunrise': 1623458723, 'sunset': 1623521613, 'moonrise': 1623462600, 'moonset': 1623529320, 'moon_phase': 0.06, 'temp': {'day': 16.67, 'min': 12.94, 'max': 19.32, 'night': 16.45, 'eve': 19.32, 'morn': 13.96}, 'feels_like': {'day': 16.69, 'night': 13.94, 'eve': 19.24, 'morn': 13.94}, 'pressure': 1010, 'humidity': 88, 'dew_point': 14.62, 'wind_speed': 2.48, 'wind_deg': 69, 'wind_gust': 7.8, 'weather': [{'id': 500, 'main': 'Rain', 'description': 'небольшой дождь', 'icon': '10d'}], 'clouds': 100, 'pop': 0.66, 'rain': 0.53, 'uvi': 2.5}, {'dt': 1623574800, 'sunrise': 1623545102, 'sunset': 1623608058, 'moonrise': 1623552480, 'moonset': 1623617940, 'moon_phase': 0.09, 'temp': {'day': 23.27, 'min': 13.75, 'max': 25.47, 'night': 17.19, 'eve': 22.57, 'morn': 15.31}, 'feels_like': {'day': 22.93, 'night': 15.09, 'eve': 22.32, 'morn': 15.09}, 'pressure': 1005, 'humidity': 49, 'dew_point': 12.31, 'wind_speed': 3.72, 'wind_deg': 191, 'wind_gust': 8.43, 'weather': [{'id': 500, 'main': 'Rain', 'description': 'небольшой дождь', 'icon': '10d'}], 'clouds': 59, 'pop': 0.26, 'rain': 0.2, 'uvi': 5.6}, {'dt': 1623661200, 'sunrise': 1623631485, 'sunset': 1623694499, 'moonrise': 1623643080, 'moonset': 0, 'moon_phase': 0.12, 'temp': {'day': 22.13, 'min': 14.74, 'max': 24.23, 'night': 19.47, 'eve': 23.43, 'morn': 15.23}, 'feels_like': {'day': 21.65, 'night': 15, 'eve': 22.98, 'morn': 15}, 'pressure': 1012, 'humidity': 48, 'dew_point': 10.7, 'wind_speed': 3.71, 'wind_deg': 228, 'wind_gust': 8.68, 'weather': [{'id': 801, 'main': 'Clouds', 'description': 'небольшая облачность', 'icon': '02d'}], 'clouds': 24, 'pop': 0.12, 'uvi': 5.93}, {'dt': 1623747600, 'sunrise': 1623717872, 'sunset': 1623780936, 'moonrise': 1623734160, 'moonset': 1623705900, 'moon_phase': 0.16, 'temp': {'day': 23.56, 'min': 15, 'max': 25.47, 'night': 21.18, 'eve': 23.16, 'morn': 15.82}, 'feels_like': {'day': 23.12, 'night': 15.47, 'eve': 22.86, 'morn': 15.47}, 'pressure': 1016, 'humidity': 44, 'dew_point': 10.91, 'wind_speed': 2.85, 'wind_deg': 5, 'wind_gust': 4.49, 'weather': [{'id': 800, 'main': 'Clear', 'description': 'ясно', 'icon': '01d'}], 'clouds': 5, 'pop': 0, 'uvi': 5.96}, {'dt': 1623834000, 'sunrise': 1623804262, 'sunset': 1623867370, 'moonrise': 1623825480, 'moonset': 1623793440, 'moon_phase': 0.19, 'temp': {'day': 25.27, 'min': 17.84, 'max': 26.4, 'night': 19.94, 'eve': 24.81, 'morn': 17.84}, 'feels_like': {'day': 24.79, 'night': 17.53, 'eve': 24.34, 'morn': 17.53}, 'pressure': 1015, 'humidity': 36, 'dew_point': 9.56, 'wind_speed': 4.22, 'wind_deg': 4, 'wind_gust': 7.86, 'weather': [{'id': 800, 'main': 'Clear', 'description': 'ясно', 'icon': '01d'}], 'clouds': 1, 'pop': 0.06, 'uvi': 6.19}, {'dt': 1623920400, 'sunrise': 1623890657, 'sunset': 1623953800, 'moonrise': 1623916860, 'moonset': 1623880740, 'moon_phase': 0.22, 'temp': {'day': 22.46, 'min': 15.52, 'max': 23.26, 'night': 18.41, 'eve': 21.96, 'morn': 15.52}, 'feels_like': {'day': 21.75, 'night': 14.85, 'eve': 21.1, 'morn': 14.85}, 'pressure': 1020, 'humidity': 38, 'dew_point': 7.71, 'wind_speed': 5.73, 'wind_deg': 14, 'wind_gust': 8.42, 'weather': [{'id': 804, 'main': 'Clouds', 'description': 'пасмурно', 'icon': '04d'}], 'clouds': 100, 'pop': 0, 'uvi': 7}, {'dt': 1624006800, 'sunrise': 1623977055, 'sunset': 1624040226, 'moonrise': 1624008360, 'moonset': 1623967860, 'moon_phase': 0.25, 'temp': {'day': 24.14, 'min': 14.32, 'max': 25.74, 'night': 20.46, 'eve': 25.05, 'morn': 15.36}, 'feels_like': {'day': 23.45, 'night': 14.34, 'eve': 24.5, 'morn': 14.34}, 'pressure': 1024, 'humidity': 32, 'dew_point': 6.51, 'wind_speed': 4.6, 'wind_deg': 19, 'wind_gust': 6.78, 'weather': [{'id': 800, 'main': 'Clear', 'description': 'ясно', 'icon': '01d'}], 'clouds': 0, 'pop': 0, 'uvi': 7}], 'alerts': [{'sender_name': '', 'event': 'Thunderstorms', 'start': 1623434400, 'end': 1623531600, 'description': '', 'tags': None}, {'sender_name': '', 'event': 'Гроза', 'start': 1623434400, 'end': 1623531600, 'description': 'Гроза местами', 'tags': None}, {'sender_name': '', 'event': 'Wind', 'start': 1623434400, 'end': 1623531600, 'description': '', 'tags': None}, {'sender_name': '', 'event': 'Ветер', 'start': 1623434400, 'end': 1623531600, 'description': 'Ветер порывы до 15', 'tags': None}]}\n"
          ],
          "name": "stdout"
        }
      ]
    },
    {
      "cell_type": "code",
      "metadata": {
        "id": "lBiSC2mo05AW"
      },
      "source": [
        ""
      ],
      "execution_count": null,
      "outputs": []
    },
    {
      "cell_type": "code",
      "metadata": {
        "id": "B-OxwaEyAkJP"
      },
      "source": [
        "def get_value_from_dictionary(dic, keys):\n",
        "    if type(dic)is dict: #check if dic is a dictionary\n",
        "        if len(keys)==1:\n",
        "            value=dic.get(keys[0])\n",
        "        else:\n",
        "            dic=dic.get(keys[0])\n",
        "            value=get_value_from_dictionary(dic,keys[1:])\n",
        "    elif type(dic)is type(None): \n",
        "        value=None\n",
        "    elif type(dic) is list: \n",
        "        dic=dic[keys[0]]\n",
        "        value=get_value_from_dictionary(dic,keys[1:])\n",
        "    return value"
      ],
      "execution_count": 142,
      "outputs": []
    },
    {
      "cell_type": "code",
      "metadata": {
        "id": "8PLlWubnzDGz"
      },
      "source": [
        "\n",
        "current = data[\"current\"][\"temp\"]\n",
        "currentReal = data[\"current\"][\"feels_like\"]\n",
        "currentW = data[\"current\"][\"wind_speed\"]\n",
        "   # currentWind = data[\"current\"][\"weather\"]\n",
        "currentWind = data[\"current\"][\"weather\"][0]['description']\n",
        "      #currentWind = [0]['description']\n",
        "      #currentWindReal = currentWind[0]['description']\n",
        "      #[1,2,3][2]\n",
        "      #current_weather_description = get_value_from_dictionary(data,[\"weather\",0,\"description\"])\n",
        "wtext1 = ('Сейчас на улице',current, 'градусов!')\n",
        "wtext2 = ('Чувствуется как',currentReal, 'градусов!')\n",
        "wtext3 = (\"Скорость ветра\", currentW, 'м/с')\n",
        "wtext4 = currentWind.capitalize()\n",
        "\n",
        "    #print(wtext1 + \"\\n\" +  wtext2 + \"\\n\" + wtext3 +\"\\n\" + wtext4)\n",
        "    #print(finalWeather)\n",
        "    #return(wtext1)\n",
        "   # return(wtext2)\n",
        "    #return(wtext3)\n",
        "   # return(currentWind.capitalize())\n",
        "    #return(wtext1,wtext2,wtext3,currentWind.capitalize())\n",
        "    #return(wtext2)\n",
        "    #return(wtext3)\n",
        "    #return(currentWind.capitalize())\n",
        "#print(currentWindReal)\n",
        "#print(current_weather_description)\n",
        "\n"
      ],
      "execution_count": 48,
      "outputs": []
    },
    {
      "cell_type": "code",
      "metadata": {
        "id": "KK9Ic_TqqR9S"
      },
      "source": [
        "weatherSay()"
      ],
      "execution_count": null,
      "outputs": []
    },
    {
      "cell_type": "code",
      "metadata": {
        "id": "Ig4ZapOqS6nA"
      },
      "source": [
        "import logging\n",
        "import random\n",
        "import re\n",
        "\n",
        "\n",
        "from telegram import Update, ForceReply\n",
        "from telegram.ext import Updater, CommandHandler, MessageHandler, Filters, CallbackContext\n",
        "\n",
        "# Enable logging\n",
        "logging.basicConfig(\n",
        "    format='%(asctime)s - %(name)s - %(levelname)s - %(message)s', level=logging.INFO\n",
        ")\n",
        "\n",
        "logger = logging.getLogger(__name__)\n",
        "\n",
        "\n",
        "# Define a few command handlers. These usually take the two arguments update and\n",
        "# context.\n",
        "def start(update: Update, context: CallbackContext) -> None:\n",
        "    \"\"\"Send a message when the command /start is issued.\"\"\"\n",
        "    user = update.effective_user\n",
        "    update.message.reply_markdown_v2(\n",
        "        fr'Hi {user.mention_markdown_v2()}\\!',\n",
        "        reply_markup=ForceReply(selective=True),\n",
        "    )\n",
        "\n",
        "\n",
        "def help_command(update: Update, context: CallbackContext) -> None:\n",
        "    \"\"\"Send a message when the command /help is issued.\"\"\"\n",
        "    update.message.reply_text('Help!')\n",
        "\n",
        "\n",
        "def echo(update: Update, context: CallbackContext) -> None:\n",
        "    \"\"\"Echo the user message.\"\"\"\n",
        "    if update.message.text.startswith(\"1703\"):\n",
        "        weatherSay123P()\n",
        "    if update.message.text.startswith(\"анекдот\"):\n",
        "      update.message.reply_text(getanekdot())\n",
        "    if update.message.text.startswith(\"@arseny_nebot\"):\n",
        "      finaltext = re.sub(\"@arseny_nebot\", '', update.message.text)\n",
        "      print(update.message.text)\n",
        "      generated = generate(model, tok, finaltext, num_beams=5)\n",
        "      print(generated)\n",
        "      update.message.reply_text(generated[0])\n",
        "\n",
        "def weatherSay123M():\n",
        "    api_key = \"8d8a2f2ac3e6c6a10d4121159cd85735\"\n",
        "    lat = \"55.755825\"\n",
        "    lon = \"37.617298\"\n",
        "    url = \"https://api.openweathermap.org/data/2.5/onecall?lat=%s&lon=%s&appid=%s&units=metric\" % (lat, lon, api_key)\n",
        "    response = requests.get(url,params={'units': 'metric', 'lang': 'ru'})\n",
        "    data = json.loads(response.text)\n",
        "    data = response.json()\n",
        "\n",
        "    current = data[\"current\"][\"temp\"]\n",
        "    currentReal = data[\"current\"][\"feels_like\"]\n",
        "    currentW = data[\"current\"][\"wind_speed\"]\n",
        "   \n",
        "    currentWind = data[\"current\"][\"weather\"][0]['description']\n",
        "      #currentWind = [0]['description']\n",
        "      #currentWindReal = currentWind[0]['description']\n",
        "      #[1,2,3][2]\n",
        "      #current_weather_description = get_value_from_dictionary(data,[\"weather\",0,\"description\"])\n",
        "    wtext1 = ('Сейчас на улице',current, 'градусов!')\n",
        "    wtext2 = ('Чувствуется как',currentReal, 'градусов!')\n",
        "    wtext3 = (\"Скорость ветра\", currentW, 'м/с')\n",
        "    wtext4 = currentWind.capitalize()\n",
        "    update.message.reply_text(wtext1)\n",
        "    update.message.reply_text(wtext2)\n",
        "    update.message.reply_text(wtext3)\n",
        "    update.message.reply_text(wtext4)\n",
        "\n",
        "def weatherSay123P():\n",
        "      \n",
        "    api_key = \"8d8a2f2ac3e6c6a10d4121159cd85735\"\n",
        "    lat = \"59.938480\"\n",
        "    lon = \"30.312481\"\n",
        "    url = \"https://api.openweathermap.org/data/2.5/onecall?lat=%s&lon=%s&appid=%s&units=metric\" % (lat, lon, api_key)\n",
        "    response = requests.get(url,params={'units': 'metric', 'lang': 'ru'})\n",
        "    data = json.loads(response.text)\n",
        "    data = response.json()\n",
        "\n",
        "    current = data[\"current\"][\"temp\"]\n",
        "    currentReal = data[\"current\"][\"feels_like\"]\n",
        "    currentW = data[\"current\"][\"wind_speed\"]\n",
        "   \n",
        "    currentWind = data[\"current\"][\"weather\"][0]['description']\n",
        "      #currentWind = [0]['description']\n",
        "      #currentWindReal = currentWind[0]['description']\n",
        "      #[1,2,3][2]\n",
        "      #current_weather_description = get_value_from_dictionary(data,[\"weather\",0,\"description\"])\n",
        "    wtext1 = ('Сейчас на улице',current, 'градусов!')\n",
        "    wtext2 = ('Чувствуется как',currentReal, 'градусов!')\n",
        "    wtext3 = (\"Скорость ветра\", currentW, 'м/с')\n",
        "    wtext4 = currentWind.capitalize()\n",
        "    update.message.reply_text(wtext1)\n",
        "    update.message.reply_text(wtext2)\n",
        "    update.message.reply_text(wtext3)\n",
        "    update.message.reply_text(wtext4)    \n",
        "   \n",
        "\n",
        "\n",
        "    \n",
        "\n",
        "\n",
        "def main() -> None:\n",
        "     \n",
        "    \n",
        "      \"\"\"Start the bot.\"\"\"\n",
        "      # Create the Updater and pass it your bot's token.\n",
        "      updater = Updater(\"1824397121:AAHH760QUDzeEu57ziLsvZqxeOYzzcx626E\")\n",
        "\n",
        "      # Get the dispatcher to register handlers\n",
        "      dispatcher = updater.dispatcher\n",
        "\n",
        "      # on different commands - answer in Telegram\n",
        "      dispatcher.add_handler(CommandHandler(\"start\", start))\n",
        "      dispatcher.add_handler(CommandHandler(\"help\", help_command))\n",
        "\n",
        "      # on non command i.e message - echo the message on Telegram\n",
        "      dispatcher.add_handler(MessageHandler(Filters.text & ~Filters.command, echo))\n",
        "\n",
        "      # Start the Bot\n",
        "      updater.start_polling()\n",
        "\n",
        "      # Run the bot until you press Ctrl-C or the process receives SIGINT,\n",
        "      # SIGTERM or SIGABRT. This should be used most of the time, since\n",
        "      # start_polling() is non-blocking and will stop the bot gracefully.\n",
        "      updater.idle()"
      ],
      "execution_count": 47,
      "outputs": []
    },
    {
      "cell_type": "code",
      "metadata": {
        "id": "qg9pBwShKlwd"
      },
      "source": [
        "\n"
      ],
      "execution_count": null,
      "outputs": []
    },
    {
      "cell_type": "code",
      "metadata": {
        "id": "ozvyykIcLhjB"
      },
      "source": [
        "def weatherSay123M():\n",
        "    api_key = \"8d8a2f2ac3e6c6a10d4121159cd85735\"\n",
        "    lat = \"55.755825\"\n",
        "    lon = \"37.617298\"\n",
        "    url = \"https://api.openweathermap.org/data/2.5/onecall?lat=%s&lon=%s&appid=%s&units=metric\" % (lat, lon, api_key)\n",
        "    response = requests.get(url,params={'units': 'metric', 'lang': 'ru'})\n",
        "    data = json.loads(response.text)\n",
        "    data = response.json()\n",
        "\n",
        "    current = data[\"current\"][\"temp\"]\n",
        "    currentReal = data[\"current\"][\"feels_like\"]\n",
        "    currentW = data[\"current\"][\"wind_speed\"]\n",
        "   \n",
        "    currentWind = data[\"current\"][\"weather\"][0]['description']\n",
        "      #currentWind = [0]['description']\n",
        "      #currentWindReal = currentWind[0]['description']\n",
        "      #[1,2,3][2]\n",
        "      #current_weather_description = get_value_from_dictionary(data,[\"weather\",0,\"description\"])\n",
        "   # wtext1 = ('Сейчас на улице', current,'градусов!')\n",
        "    wtext1 = 'Сейчас на улице ' + str(current) +' градусов!'\n",
        "    wtext2 = 'Чувствуется как ' + str(currentReal) + ' градусов!'\n",
        "    wtext3 = \"Скорость ветра \" + str(currentW) + ' м/с'\n",
        "    wtext4 = currentWind.capitalize()\n",
        "    \n",
        "    print (wtext1)\n",
        "    print (wtext2)\n",
        "    print (wtext3)\n",
        "    print (wtext4)\n"
      ],
      "execution_count": 47,
      "outputs": []
    },
    {
      "cell_type": "code",
      "metadata": {
        "id": "X32IuUmqeFY2",
        "outputId": "c62617ba-cde5-4b17-8e19-9fd7847bf8fc",
        "colab": {
          "base_uri": "https://localhost:8080/"
        }
      },
      "source": [
        "weatherSay123M()"
      ],
      "execution_count": 48,
      "outputs": [
        {
          "output_type": "stream",
          "text": [
            "Сейчас на улице 15.99 градусов!\n",
            "Чувствуется как 16.15 градусов!\n",
            "Скорость ветра 2.01 м/с\n",
            "Небольшой дождь\n"
          ],
          "name": "stdout"
        }
      ]
    },
    {
      "cell_type": "code",
      "metadata": {
        "id": "ZKeo8Rr_MXUj"
      },
      "source": [
        "!pip install python-telegram-bot\n",
        "!pip install python-telegram-bot-raw"
      ],
      "execution_count": null,
      "outputs": []
    },
    {
      "cell_type": "code",
      "metadata": {
        "id": "Z7vgBpGtOZKo",
        "outputId": "cc529dcd-9dea-4d1c-b2f4-25473cfe2a8a",
        "colab": {
          "base_uri": "https://localhost:8080/"
        }
      },
      "source": [
        "main()"
      ],
      "execution_count": 46,
      "outputs": [
        {
          "output_type": "stream",
          "text": [
            "2021-06-11 18:28:53,101 - apscheduler.scheduler - INFO - Scheduler started\n",
            "2021-06-11 18:28:59,640 - telegram.ext.dispatcher - ERROR - No error handlers are registered, logging exception.\n",
            "Traceback (most recent call last):\n",
            "  File \"/usr/local/lib/python3.7/dist-packages/telegram/ext/dispatcher.py\", line 555, in process_update\n",
            "    handler.handle_update(update, self, check, context)\n",
            "  File \"/usr/local/lib/python3.7/dist-packages/telegram/ext/handler.py\", line 198, in handle_update\n",
            "    return self.callback(update, context)\n",
            "  File \"<ipython-input-45-6c7beb1cd51e>\", line 36, in echo\n",
            "    weatherSay123P()\n",
            "  File \"<ipython-input-45-6c7beb1cd51e>\", line 96, in weatherSay123P\n",
            "    update.message.reply_text(wtext1)\n",
            "NameError: name 'update' is not defined\n",
            "2021-06-11 18:29:33,511 - telegram.ext.updater - INFO - Received signal 2 (SIGINT), stopping...\n",
            "2021-06-11 18:29:33,516 - apscheduler.scheduler - INFO - Scheduler has been shut down\n"
          ],
          "name": "stderr"
        }
      ]
    }
  ]
}